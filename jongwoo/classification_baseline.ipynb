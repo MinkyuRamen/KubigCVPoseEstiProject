{
  "nbformat": 4,
  "nbformat_minor": 0,
  "metadata": {
    "colab": {
      "provenance": [],
      "collapsed_sections": [
        "E0F2sv-zlbJm"
      ],
      "gpuType": "T4"
    },
    "kernelspec": {
      "name": "python3",
      "display_name": "Python 3"
    },
    "language_info": {
      "name": "python"
    },
    "accelerator": "GPU",
    "widgets": {
      "application/vnd.jupyter.widget-state+json": {
        "2273361cb5794901a843a683134e7f41": {
          "model_module": "@jupyter-widgets/controls",
          "model_name": "HBoxModel",
          "model_module_version": "1.5.0",
          "state": {
            "_dom_classes": [],
            "_model_module": "@jupyter-widgets/controls",
            "_model_module_version": "1.5.0",
            "_model_name": "HBoxModel",
            "_view_count": null,
            "_view_module": "@jupyter-widgets/controls",
            "_view_module_version": "1.5.0",
            "_view_name": "HBoxView",
            "box_style": "",
            "children": [
              "IPY_MODEL_34b6ffe079794d9c91d971a33fb691fe",
              "IPY_MODEL_bcd88bc072a449d597a029677677f54b",
              "IPY_MODEL_46aa2dd46e1642c695a3d751cfaa871a"
            ],
            "layout": "IPY_MODEL_6f57d8556ac04178b75b7f599256ee33"
          }
        },
        "34b6ffe079794d9c91d971a33fb691fe": {
          "model_module": "@jupyter-widgets/controls",
          "model_name": "HTMLModel",
          "model_module_version": "1.5.0",
          "state": {
            "_dom_classes": [],
            "_model_module": "@jupyter-widgets/controls",
            "_model_module_version": "1.5.0",
            "_model_name": "HTMLModel",
            "_view_count": null,
            "_view_module": "@jupyter-widgets/controls",
            "_view_module_version": "1.5.0",
            "_view_name": "HTMLView",
            "description": "",
            "description_tooltip": null,
            "layout": "IPY_MODEL_d2f005e6bc9b49618c4d75ba070e9271",
            "placeholder": "​",
            "style": "IPY_MODEL_98bf2a2ffe534a5ca1b02f23dd1b110d",
            "value": "Downloading vitpose-25-l.onnx: 100%"
          }
        },
        "bcd88bc072a449d597a029677677f54b": {
          "model_module": "@jupyter-widgets/controls",
          "model_name": "FloatProgressModel",
          "model_module_version": "1.5.0",
          "state": {
            "_dom_classes": [],
            "_model_module": "@jupyter-widgets/controls",
            "_model_module_version": "1.5.0",
            "_model_name": "FloatProgressModel",
            "_view_count": null,
            "_view_module": "@jupyter-widgets/controls",
            "_view_module_version": "1.5.0",
            "_view_name": "ProgressView",
            "bar_style": "success",
            "description": "",
            "description_tooltip": null,
            "layout": "IPY_MODEL_d6558c1022f3428793b8e30e96b0dc31",
            "max": 1234336007,
            "min": 0,
            "orientation": "horizontal",
            "style": "IPY_MODEL_426c99ab003c4fdebcd3338e2eb0c0ce",
            "value": 1234336007
          }
        },
        "46aa2dd46e1642c695a3d751cfaa871a": {
          "model_module": "@jupyter-widgets/controls",
          "model_name": "HTMLModel",
          "model_module_version": "1.5.0",
          "state": {
            "_dom_classes": [],
            "_model_module": "@jupyter-widgets/controls",
            "_model_module_version": "1.5.0",
            "_model_name": "HTMLModel",
            "_view_count": null,
            "_view_module": "@jupyter-widgets/controls",
            "_view_module_version": "1.5.0",
            "_view_name": "HTMLView",
            "description": "",
            "description_tooltip": null,
            "layout": "IPY_MODEL_aff03a533c194eb19b66977ec805268d",
            "placeholder": "​",
            "style": "IPY_MODEL_5b67c94f79824331b812e52080b4b0e7",
            "value": " 1.23G/1.23G [00:05&lt;00:00, 263MB/s]"
          }
        },
        "6f57d8556ac04178b75b7f599256ee33": {
          "model_module": "@jupyter-widgets/base",
          "model_name": "LayoutModel",
          "model_module_version": "1.2.0",
          "state": {
            "_model_module": "@jupyter-widgets/base",
            "_model_module_version": "1.2.0",
            "_model_name": "LayoutModel",
            "_view_count": null,
            "_view_module": "@jupyter-widgets/base",
            "_view_module_version": "1.2.0",
            "_view_name": "LayoutView",
            "align_content": null,
            "align_items": null,
            "align_self": null,
            "border": null,
            "bottom": null,
            "display": null,
            "flex": null,
            "flex_flow": null,
            "grid_area": null,
            "grid_auto_columns": null,
            "grid_auto_flow": null,
            "grid_auto_rows": null,
            "grid_column": null,
            "grid_gap": null,
            "grid_row": null,
            "grid_template_areas": null,
            "grid_template_columns": null,
            "grid_template_rows": null,
            "height": null,
            "justify_content": null,
            "justify_items": null,
            "left": null,
            "margin": null,
            "max_height": null,
            "max_width": null,
            "min_height": null,
            "min_width": null,
            "object_fit": null,
            "object_position": null,
            "order": null,
            "overflow": null,
            "overflow_x": null,
            "overflow_y": null,
            "padding": null,
            "right": null,
            "top": null,
            "visibility": null,
            "width": null
          }
        },
        "d2f005e6bc9b49618c4d75ba070e9271": {
          "model_module": "@jupyter-widgets/base",
          "model_name": "LayoutModel",
          "model_module_version": "1.2.0",
          "state": {
            "_model_module": "@jupyter-widgets/base",
            "_model_module_version": "1.2.0",
            "_model_name": "LayoutModel",
            "_view_count": null,
            "_view_module": "@jupyter-widgets/base",
            "_view_module_version": "1.2.0",
            "_view_name": "LayoutView",
            "align_content": null,
            "align_items": null,
            "align_self": null,
            "border": null,
            "bottom": null,
            "display": null,
            "flex": null,
            "flex_flow": null,
            "grid_area": null,
            "grid_auto_columns": null,
            "grid_auto_flow": null,
            "grid_auto_rows": null,
            "grid_column": null,
            "grid_gap": null,
            "grid_row": null,
            "grid_template_areas": null,
            "grid_template_columns": null,
            "grid_template_rows": null,
            "height": null,
            "justify_content": null,
            "justify_items": null,
            "left": null,
            "margin": null,
            "max_height": null,
            "max_width": null,
            "min_height": null,
            "min_width": null,
            "object_fit": null,
            "object_position": null,
            "order": null,
            "overflow": null,
            "overflow_x": null,
            "overflow_y": null,
            "padding": null,
            "right": null,
            "top": null,
            "visibility": null,
            "width": null
          }
        },
        "98bf2a2ffe534a5ca1b02f23dd1b110d": {
          "model_module": "@jupyter-widgets/controls",
          "model_name": "DescriptionStyleModel",
          "model_module_version": "1.5.0",
          "state": {
            "_model_module": "@jupyter-widgets/controls",
            "_model_module_version": "1.5.0",
            "_model_name": "DescriptionStyleModel",
            "_view_count": null,
            "_view_module": "@jupyter-widgets/base",
            "_view_module_version": "1.2.0",
            "_view_name": "StyleView",
            "description_width": ""
          }
        },
        "d6558c1022f3428793b8e30e96b0dc31": {
          "model_module": "@jupyter-widgets/base",
          "model_name": "LayoutModel",
          "model_module_version": "1.2.0",
          "state": {
            "_model_module": "@jupyter-widgets/base",
            "_model_module_version": "1.2.0",
            "_model_name": "LayoutModel",
            "_view_count": null,
            "_view_module": "@jupyter-widgets/base",
            "_view_module_version": "1.2.0",
            "_view_name": "LayoutView",
            "align_content": null,
            "align_items": null,
            "align_self": null,
            "border": null,
            "bottom": null,
            "display": null,
            "flex": null,
            "flex_flow": null,
            "grid_area": null,
            "grid_auto_columns": null,
            "grid_auto_flow": null,
            "grid_auto_rows": null,
            "grid_column": null,
            "grid_gap": null,
            "grid_row": null,
            "grid_template_areas": null,
            "grid_template_columns": null,
            "grid_template_rows": null,
            "height": null,
            "justify_content": null,
            "justify_items": null,
            "left": null,
            "margin": null,
            "max_height": null,
            "max_width": null,
            "min_height": null,
            "min_width": null,
            "object_fit": null,
            "object_position": null,
            "order": null,
            "overflow": null,
            "overflow_x": null,
            "overflow_y": null,
            "padding": null,
            "right": null,
            "top": null,
            "visibility": null,
            "width": null
          }
        },
        "426c99ab003c4fdebcd3338e2eb0c0ce": {
          "model_module": "@jupyter-widgets/controls",
          "model_name": "ProgressStyleModel",
          "model_module_version": "1.5.0",
          "state": {
            "_model_module": "@jupyter-widgets/controls",
            "_model_module_version": "1.5.0",
            "_model_name": "ProgressStyleModel",
            "_view_count": null,
            "_view_module": "@jupyter-widgets/base",
            "_view_module_version": "1.2.0",
            "_view_name": "StyleView",
            "bar_color": null,
            "description_width": ""
          }
        },
        "aff03a533c194eb19b66977ec805268d": {
          "model_module": "@jupyter-widgets/base",
          "model_name": "LayoutModel",
          "model_module_version": "1.2.0",
          "state": {
            "_model_module": "@jupyter-widgets/base",
            "_model_module_version": "1.2.0",
            "_model_name": "LayoutModel",
            "_view_count": null,
            "_view_module": "@jupyter-widgets/base",
            "_view_module_version": "1.2.0",
            "_view_name": "LayoutView",
            "align_content": null,
            "align_items": null,
            "align_self": null,
            "border": null,
            "bottom": null,
            "display": null,
            "flex": null,
            "flex_flow": null,
            "grid_area": null,
            "grid_auto_columns": null,
            "grid_auto_flow": null,
            "grid_auto_rows": null,
            "grid_column": null,
            "grid_gap": null,
            "grid_row": null,
            "grid_template_areas": null,
            "grid_template_columns": null,
            "grid_template_rows": null,
            "height": null,
            "justify_content": null,
            "justify_items": null,
            "left": null,
            "margin": null,
            "max_height": null,
            "max_width": null,
            "min_height": null,
            "min_width": null,
            "object_fit": null,
            "object_position": null,
            "order": null,
            "overflow": null,
            "overflow_x": null,
            "overflow_y": null,
            "padding": null,
            "right": null,
            "top": null,
            "visibility": null,
            "width": null
          }
        },
        "5b67c94f79824331b812e52080b4b0e7": {
          "model_module": "@jupyter-widgets/controls",
          "model_name": "DescriptionStyleModel",
          "model_module_version": "1.5.0",
          "state": {
            "_model_module": "@jupyter-widgets/controls",
            "_model_module_version": "1.5.0",
            "_model_name": "DescriptionStyleModel",
            "_view_count": null,
            "_view_module": "@jupyter-widgets/base",
            "_view_module_version": "1.2.0",
            "_view_name": "StyleView",
            "description_width": ""
          }
        },
        "4ffe1f340b7b47d69a834d0e29087428": {
          "model_module": "@jupyter-widgets/controls",
          "model_name": "HBoxModel",
          "model_module_version": "1.5.0",
          "state": {
            "_dom_classes": [],
            "_model_module": "@jupyter-widgets/controls",
            "_model_module_version": "1.5.0",
            "_model_name": "HBoxModel",
            "_view_count": null,
            "_view_module": "@jupyter-widgets/controls",
            "_view_module_version": "1.5.0",
            "_view_name": "HBoxView",
            "box_style": "",
            "children": [
              "IPY_MODEL_b3694f94afff470e9d8b4bd0d6d674d0",
              "IPY_MODEL_43dc5203932d454bb349910dd57e8e06",
              "IPY_MODEL_82ee1cfd942345fa95228eab9761b654"
            ],
            "layout": "IPY_MODEL_bb86cf4c14a5499ea70a63f08fe0d37f"
          }
        },
        "b3694f94afff470e9d8b4bd0d6d674d0": {
          "model_module": "@jupyter-widgets/controls",
          "model_name": "HTMLModel",
          "model_module_version": "1.5.0",
          "state": {
            "_dom_classes": [],
            "_model_module": "@jupyter-widgets/controls",
            "_model_module_version": "1.5.0",
            "_model_name": "HTMLModel",
            "_view_count": null,
            "_view_module": "@jupyter-widgets/controls",
            "_view_module_version": "1.5.0",
            "_view_name": "HTMLView",
            "description": "",
            "description_tooltip": null,
            "layout": "IPY_MODEL_2ed5d2e25bab4523855997bc8175bb1d",
            "placeholder": "​",
            "style": "IPY_MODEL_7b395d368cc24ef78c3ce779fb3a8f78",
            "value": "Downloading yolov5n.onnx: 100%"
          }
        },
        "43dc5203932d454bb349910dd57e8e06": {
          "model_module": "@jupyter-widgets/controls",
          "model_name": "FloatProgressModel",
          "model_module_version": "1.5.0",
          "state": {
            "_dom_classes": [],
            "_model_module": "@jupyter-widgets/controls",
            "_model_module_version": "1.5.0",
            "_model_name": "FloatProgressModel",
            "_view_count": null,
            "_view_module": "@jupyter-widgets/controls",
            "_view_module_version": "1.5.0",
            "_view_name": "ProgressView",
            "bar_style": "success",
            "description": "",
            "description_tooltip": null,
            "layout": "IPY_MODEL_059a85f2f05c4d95a2499213398e7aa0",
            "max": 7523971,
            "min": 0,
            "orientation": "horizontal",
            "style": "IPY_MODEL_3c4e9cead41b4601bf4fd4d709b471c0",
            "value": 7523971
          }
        },
        "82ee1cfd942345fa95228eab9761b654": {
          "model_module": "@jupyter-widgets/controls",
          "model_name": "HTMLModel",
          "model_module_version": "1.5.0",
          "state": {
            "_dom_classes": [],
            "_model_module": "@jupyter-widgets/controls",
            "_model_module_version": "1.5.0",
            "_model_name": "HTMLModel",
            "_view_count": null,
            "_view_module": "@jupyter-widgets/controls",
            "_view_module_version": "1.5.0",
            "_view_name": "HTMLView",
            "description": "",
            "description_tooltip": null,
            "layout": "IPY_MODEL_05ac0cce87f848a8a64a4e339733442e",
            "placeholder": "​",
            "style": "IPY_MODEL_2ec2602e1c9c40b585dfd4ff633bf4c0",
            "value": " 7.52M/7.52M [00:00&lt;00:00, 136MB/s]"
          }
        },
        "bb86cf4c14a5499ea70a63f08fe0d37f": {
          "model_module": "@jupyter-widgets/base",
          "model_name": "LayoutModel",
          "model_module_version": "1.2.0",
          "state": {
            "_model_module": "@jupyter-widgets/base",
            "_model_module_version": "1.2.0",
            "_model_name": "LayoutModel",
            "_view_count": null,
            "_view_module": "@jupyter-widgets/base",
            "_view_module_version": "1.2.0",
            "_view_name": "LayoutView",
            "align_content": null,
            "align_items": null,
            "align_self": null,
            "border": null,
            "bottom": null,
            "display": null,
            "flex": null,
            "flex_flow": null,
            "grid_area": null,
            "grid_auto_columns": null,
            "grid_auto_flow": null,
            "grid_auto_rows": null,
            "grid_column": null,
            "grid_gap": null,
            "grid_row": null,
            "grid_template_areas": null,
            "grid_template_columns": null,
            "grid_template_rows": null,
            "height": null,
            "justify_content": null,
            "justify_items": null,
            "left": null,
            "margin": null,
            "max_height": null,
            "max_width": null,
            "min_height": null,
            "min_width": null,
            "object_fit": null,
            "object_position": null,
            "order": null,
            "overflow": null,
            "overflow_x": null,
            "overflow_y": null,
            "padding": null,
            "right": null,
            "top": null,
            "visibility": null,
            "width": null
          }
        },
        "2ed5d2e25bab4523855997bc8175bb1d": {
          "model_module": "@jupyter-widgets/base",
          "model_name": "LayoutModel",
          "model_module_version": "1.2.0",
          "state": {
            "_model_module": "@jupyter-widgets/base",
            "_model_module_version": "1.2.0",
            "_model_name": "LayoutModel",
            "_view_count": null,
            "_view_module": "@jupyter-widgets/base",
            "_view_module_version": "1.2.0",
            "_view_name": "LayoutView",
            "align_content": null,
            "align_items": null,
            "align_self": null,
            "border": null,
            "bottom": null,
            "display": null,
            "flex": null,
            "flex_flow": null,
            "grid_area": null,
            "grid_auto_columns": null,
            "grid_auto_flow": null,
            "grid_auto_rows": null,
            "grid_column": null,
            "grid_gap": null,
            "grid_row": null,
            "grid_template_areas": null,
            "grid_template_columns": null,
            "grid_template_rows": null,
            "height": null,
            "justify_content": null,
            "justify_items": null,
            "left": null,
            "margin": null,
            "max_height": null,
            "max_width": null,
            "min_height": null,
            "min_width": null,
            "object_fit": null,
            "object_position": null,
            "order": null,
            "overflow": null,
            "overflow_x": null,
            "overflow_y": null,
            "padding": null,
            "right": null,
            "top": null,
            "visibility": null,
            "width": null
          }
        },
        "7b395d368cc24ef78c3ce779fb3a8f78": {
          "model_module": "@jupyter-widgets/controls",
          "model_name": "DescriptionStyleModel",
          "model_module_version": "1.5.0",
          "state": {
            "_model_module": "@jupyter-widgets/controls",
            "_model_module_version": "1.5.0",
            "_model_name": "DescriptionStyleModel",
            "_view_count": null,
            "_view_module": "@jupyter-widgets/base",
            "_view_module_version": "1.2.0",
            "_view_name": "StyleView",
            "description_width": ""
          }
        },
        "059a85f2f05c4d95a2499213398e7aa0": {
          "model_module": "@jupyter-widgets/base",
          "model_name": "LayoutModel",
          "model_module_version": "1.2.0",
          "state": {
            "_model_module": "@jupyter-widgets/base",
            "_model_module_version": "1.2.0",
            "_model_name": "LayoutModel",
            "_view_count": null,
            "_view_module": "@jupyter-widgets/base",
            "_view_module_version": "1.2.0",
            "_view_name": "LayoutView",
            "align_content": null,
            "align_items": null,
            "align_self": null,
            "border": null,
            "bottom": null,
            "display": null,
            "flex": null,
            "flex_flow": null,
            "grid_area": null,
            "grid_auto_columns": null,
            "grid_auto_flow": null,
            "grid_auto_rows": null,
            "grid_column": null,
            "grid_gap": null,
            "grid_row": null,
            "grid_template_areas": null,
            "grid_template_columns": null,
            "grid_template_rows": null,
            "height": null,
            "justify_content": null,
            "justify_items": null,
            "left": null,
            "margin": null,
            "max_height": null,
            "max_width": null,
            "min_height": null,
            "min_width": null,
            "object_fit": null,
            "object_position": null,
            "order": null,
            "overflow": null,
            "overflow_x": null,
            "overflow_y": null,
            "padding": null,
            "right": null,
            "top": null,
            "visibility": null,
            "width": null
          }
        },
        "3c4e9cead41b4601bf4fd4d709b471c0": {
          "model_module": "@jupyter-widgets/controls",
          "model_name": "ProgressStyleModel",
          "model_module_version": "1.5.0",
          "state": {
            "_model_module": "@jupyter-widgets/controls",
            "_model_module_version": "1.5.0",
            "_model_name": "ProgressStyleModel",
            "_view_count": null,
            "_view_module": "@jupyter-widgets/base",
            "_view_module_version": "1.2.0",
            "_view_name": "StyleView",
            "bar_color": null,
            "description_width": ""
          }
        },
        "05ac0cce87f848a8a64a4e339733442e": {
          "model_module": "@jupyter-widgets/base",
          "model_name": "LayoutModel",
          "model_module_version": "1.2.0",
          "state": {
            "_model_module": "@jupyter-widgets/base",
            "_model_module_version": "1.2.0",
            "_model_name": "LayoutModel",
            "_view_count": null,
            "_view_module": "@jupyter-widgets/base",
            "_view_module_version": "1.2.0",
            "_view_name": "LayoutView",
            "align_content": null,
            "align_items": null,
            "align_self": null,
            "border": null,
            "bottom": null,
            "display": null,
            "flex": null,
            "flex_flow": null,
            "grid_area": null,
            "grid_auto_columns": null,
            "grid_auto_flow": null,
            "grid_auto_rows": null,
            "grid_column": null,
            "grid_gap": null,
            "grid_row": null,
            "grid_template_areas": null,
            "grid_template_columns": null,
            "grid_template_rows": null,
            "height": null,
            "justify_content": null,
            "justify_items": null,
            "left": null,
            "margin": null,
            "max_height": null,
            "max_width": null,
            "min_height": null,
            "min_width": null,
            "object_fit": null,
            "object_position": null,
            "order": null,
            "overflow": null,
            "overflow_x": null,
            "overflow_y": null,
            "padding": null,
            "right": null,
            "top": null,
            "visibility": null,
            "width": null
          }
        },
        "2ec2602e1c9c40b585dfd4ff633bf4c0": {
          "model_module": "@jupyter-widgets/controls",
          "model_name": "DescriptionStyleModel",
          "model_module_version": "1.5.0",
          "state": {
            "_model_module": "@jupyter-widgets/controls",
            "_model_module_version": "1.5.0",
            "_model_name": "DescriptionStyleModel",
            "_view_count": null,
            "_view_module": "@jupyter-widgets/base",
            "_view_module_version": "1.2.0",
            "_view_name": "StyleView",
            "description_width": ""
          }
        },
        "a02f1917c7a1403aa02f5b217f5dd0a1": {
          "model_module": "@jupyter-widgets/controls",
          "model_name": "HBoxModel",
          "model_module_version": "1.5.0",
          "state": {
            "_dom_classes": [],
            "_model_module": "@jupyter-widgets/controls",
            "_model_module_version": "1.5.0",
            "_model_name": "HBoxModel",
            "_view_count": null,
            "_view_module": "@jupyter-widgets/controls",
            "_view_module_version": "1.5.0",
            "_view_name": "HBoxView",
            "box_style": "",
            "children": [
              "IPY_MODEL_c5eb8e126d1247b0ae910c56bd457af0",
              "IPY_MODEL_64513a38e086404baf348f0bb03e09dd",
              "IPY_MODEL_0ac9c69afa024052bf0312021f7c7adf"
            ],
            "layout": "IPY_MODEL_cac386106d4743c6adb67a74fa6d7ab6"
          }
        },
        "c5eb8e126d1247b0ae910c56bd457af0": {
          "model_module": "@jupyter-widgets/controls",
          "model_name": "HTMLModel",
          "model_module_version": "1.5.0",
          "state": {
            "_dom_classes": [],
            "_model_module": "@jupyter-widgets/controls",
            "_model_module_version": "1.5.0",
            "_model_name": "HTMLModel",
            "_view_count": null,
            "_view_module": "@jupyter-widgets/controls",
            "_view_module_version": "1.5.0",
            "_view_name": "HTMLView",
            "description": "",
            "description_tooltip": null,
            "layout": "IPY_MODEL_0c6ec35fca3240cd9e91ed37a1eb9542",
            "placeholder": "​",
            "style": "IPY_MODEL_9cdb65a6c3ba43d581630927dbb13bf5",
            "value": ""
          }
        },
        "64513a38e086404baf348f0bb03e09dd": {
          "model_module": "@jupyter-widgets/controls",
          "model_name": "FloatProgressModel",
          "model_module_version": "1.5.0",
          "state": {
            "_dom_classes": [],
            "_model_module": "@jupyter-widgets/controls",
            "_model_module_version": "1.5.0",
            "_model_name": "FloatProgressModel",
            "_view_count": null,
            "_view_module": "@jupyter-widgets/controls",
            "_view_module_version": "1.5.0",
            "_view_name": "ProgressView",
            "bar_style": "success",
            "description": "",
            "description_tooltip": null,
            "layout": "IPY_MODEL_59f617c2601c449ebb3c710c24e358d3",
            "max": 1,
            "min": 0,
            "orientation": "horizontal",
            "style": "IPY_MODEL_4e0457aed81f43e6b595feb36eedae92",
            "value": 1
          }
        },
        "0ac9c69afa024052bf0312021f7c7adf": {
          "model_module": "@jupyter-widgets/controls",
          "model_name": "HTMLModel",
          "model_module_version": "1.5.0",
          "state": {
            "_dom_classes": [],
            "_model_module": "@jupyter-widgets/controls",
            "_model_module_version": "1.5.0",
            "_model_name": "HTMLModel",
            "_view_count": null,
            "_view_module": "@jupyter-widgets/controls",
            "_view_module_version": "1.5.0",
            "_view_name": "HTMLView",
            "description": "",
            "description_tooltip": null,
            "layout": "IPY_MODEL_714cc0ed2e9b428ab5222dbcb1ade91a",
            "placeholder": "​",
            "style": "IPY_MODEL_f0daa40f13e34302821b478a12eaa4d8",
            "value": " 3118/? [54:23&lt;00:00,  1.17s/it]"
          }
        },
        "cac386106d4743c6adb67a74fa6d7ab6": {
          "model_module": "@jupyter-widgets/base",
          "model_name": "LayoutModel",
          "model_module_version": "1.2.0",
          "state": {
            "_model_module": "@jupyter-widgets/base",
            "_model_module_version": "1.2.0",
            "_model_name": "LayoutModel",
            "_view_count": null,
            "_view_module": "@jupyter-widgets/base",
            "_view_module_version": "1.2.0",
            "_view_name": "LayoutView",
            "align_content": null,
            "align_items": null,
            "align_self": null,
            "border": null,
            "bottom": null,
            "display": null,
            "flex": null,
            "flex_flow": null,
            "grid_area": null,
            "grid_auto_columns": null,
            "grid_auto_flow": null,
            "grid_auto_rows": null,
            "grid_column": null,
            "grid_gap": null,
            "grid_row": null,
            "grid_template_areas": null,
            "grid_template_columns": null,
            "grid_template_rows": null,
            "height": null,
            "justify_content": null,
            "justify_items": null,
            "left": null,
            "margin": null,
            "max_height": null,
            "max_width": null,
            "min_height": null,
            "min_width": null,
            "object_fit": null,
            "object_position": null,
            "order": null,
            "overflow": null,
            "overflow_x": null,
            "overflow_y": null,
            "padding": null,
            "right": null,
            "top": null,
            "visibility": null,
            "width": null
          }
        },
        "0c6ec35fca3240cd9e91ed37a1eb9542": {
          "model_module": "@jupyter-widgets/base",
          "model_name": "LayoutModel",
          "model_module_version": "1.2.0",
          "state": {
            "_model_module": "@jupyter-widgets/base",
            "_model_module_version": "1.2.0",
            "_model_name": "LayoutModel",
            "_view_count": null,
            "_view_module": "@jupyter-widgets/base",
            "_view_module_version": "1.2.0",
            "_view_name": "LayoutView",
            "align_content": null,
            "align_items": null,
            "align_self": null,
            "border": null,
            "bottom": null,
            "display": null,
            "flex": null,
            "flex_flow": null,
            "grid_area": null,
            "grid_auto_columns": null,
            "grid_auto_flow": null,
            "grid_auto_rows": null,
            "grid_column": null,
            "grid_gap": null,
            "grid_row": null,
            "grid_template_areas": null,
            "grid_template_columns": null,
            "grid_template_rows": null,
            "height": null,
            "justify_content": null,
            "justify_items": null,
            "left": null,
            "margin": null,
            "max_height": null,
            "max_width": null,
            "min_height": null,
            "min_width": null,
            "object_fit": null,
            "object_position": null,
            "order": null,
            "overflow": null,
            "overflow_x": null,
            "overflow_y": null,
            "padding": null,
            "right": null,
            "top": null,
            "visibility": null,
            "width": null
          }
        },
        "9cdb65a6c3ba43d581630927dbb13bf5": {
          "model_module": "@jupyter-widgets/controls",
          "model_name": "DescriptionStyleModel",
          "model_module_version": "1.5.0",
          "state": {
            "_model_module": "@jupyter-widgets/controls",
            "_model_module_version": "1.5.0",
            "_model_name": "DescriptionStyleModel",
            "_view_count": null,
            "_view_module": "@jupyter-widgets/base",
            "_view_module_version": "1.2.0",
            "_view_name": "StyleView",
            "description_width": ""
          }
        },
        "59f617c2601c449ebb3c710c24e358d3": {
          "model_module": "@jupyter-widgets/base",
          "model_name": "LayoutModel",
          "model_module_version": "1.2.0",
          "state": {
            "_model_module": "@jupyter-widgets/base",
            "_model_module_version": "1.2.0",
            "_model_name": "LayoutModel",
            "_view_count": null,
            "_view_module": "@jupyter-widgets/base",
            "_view_module_version": "1.2.0",
            "_view_name": "LayoutView",
            "align_content": null,
            "align_items": null,
            "align_self": null,
            "border": null,
            "bottom": null,
            "display": null,
            "flex": null,
            "flex_flow": null,
            "grid_area": null,
            "grid_auto_columns": null,
            "grid_auto_flow": null,
            "grid_auto_rows": null,
            "grid_column": null,
            "grid_gap": null,
            "grid_row": null,
            "grid_template_areas": null,
            "grid_template_columns": null,
            "grid_template_rows": null,
            "height": null,
            "justify_content": null,
            "justify_items": null,
            "left": null,
            "margin": null,
            "max_height": null,
            "max_width": null,
            "min_height": null,
            "min_width": null,
            "object_fit": null,
            "object_position": null,
            "order": null,
            "overflow": null,
            "overflow_x": null,
            "overflow_y": null,
            "padding": null,
            "right": null,
            "top": null,
            "visibility": null,
            "width": "20px"
          }
        },
        "4e0457aed81f43e6b595feb36eedae92": {
          "model_module": "@jupyter-widgets/controls",
          "model_name": "ProgressStyleModel",
          "model_module_version": "1.5.0",
          "state": {
            "_model_module": "@jupyter-widgets/controls",
            "_model_module_version": "1.5.0",
            "_model_name": "ProgressStyleModel",
            "_view_count": null,
            "_view_module": "@jupyter-widgets/base",
            "_view_module_version": "1.2.0",
            "_view_name": "StyleView",
            "bar_color": null,
            "description_width": ""
          }
        },
        "714cc0ed2e9b428ab5222dbcb1ade91a": {
          "model_module": "@jupyter-widgets/base",
          "model_name": "LayoutModel",
          "model_module_version": "1.2.0",
          "state": {
            "_model_module": "@jupyter-widgets/base",
            "_model_module_version": "1.2.0",
            "_model_name": "LayoutModel",
            "_view_count": null,
            "_view_module": "@jupyter-widgets/base",
            "_view_module_version": "1.2.0",
            "_view_name": "LayoutView",
            "align_content": null,
            "align_items": null,
            "align_self": null,
            "border": null,
            "bottom": null,
            "display": null,
            "flex": null,
            "flex_flow": null,
            "grid_area": null,
            "grid_auto_columns": null,
            "grid_auto_flow": null,
            "grid_auto_rows": null,
            "grid_column": null,
            "grid_gap": null,
            "grid_row": null,
            "grid_template_areas": null,
            "grid_template_columns": null,
            "grid_template_rows": null,
            "height": null,
            "justify_content": null,
            "justify_items": null,
            "left": null,
            "margin": null,
            "max_height": null,
            "max_width": null,
            "min_height": null,
            "min_width": null,
            "object_fit": null,
            "object_position": null,
            "order": null,
            "overflow": null,
            "overflow_x": null,
            "overflow_y": null,
            "padding": null,
            "right": null,
            "top": null,
            "visibility": null,
            "width": null
          }
        },
        "f0daa40f13e34302821b478a12eaa4d8": {
          "model_module": "@jupyter-widgets/controls",
          "model_name": "DescriptionStyleModel",
          "model_module_version": "1.5.0",
          "state": {
            "_model_module": "@jupyter-widgets/controls",
            "_model_module_version": "1.5.0",
            "_model_name": "DescriptionStyleModel",
            "_view_count": null,
            "_view_module": "@jupyter-widgets/base",
            "_view_module_version": "1.2.0",
            "_view_name": "StyleView",
            "description_width": ""
          }
        }
      }
    }
  },
  "cells": [
    {
      "cell_type": "markdown",
      "source": [
        "# 라이브러리 임포트 및 드라이브 마운트"
      ],
      "metadata": {
        "id": "okVD4QFXf9fI"
      }
    },
    {
      "cell_type": "code",
      "source": [
        "!git clone https://github.com/JunkyByte/easy_ViTPose.git\n",
        "%cd easy_ViTPose\n",
        "!pip install -r requirements.txt\n",
        "!pip install -e .\n",
        "!pip install huggingface_hub\n",
        "!pip install onnx onnxruntime-gpu"
      ],
      "metadata": {
        "id": "rXiuewnU3KM7",
        "colab": {
          "base_uri": "https://localhost:8080/",
          "height": 1000
        },
        "outputId": "7cbaf988-75ad-485e-acc4-eb59906d9c9b"
      },
      "execution_count": null,
      "outputs": [
        {
          "output_type": "stream",
          "name": "stdout",
          "text": [
            "Cloning into 'easy_ViTPose'...\n",
            "remote: Enumerating objects: 682, done.\u001b[K\n",
            "remote: Counting objects: 100% (99/99), done.\u001b[K\n",
            "remote: Compressing objects: 100% (73/73), done.\u001b[K\n",
            "remote: Total 682 (delta 55), reused 62 (delta 26), pack-reused 583\u001b[K\n",
            "Receiving objects: 100% (682/682), 8.71 MiB | 9.40 MiB/s, done.\n",
            "Resolving deltas: 100% (392/392), done.\n",
            "/content/easy_ViTPose\n",
            "Collecting click==8.1.3 (from -r requirements.txt (line 1))\n",
            "  Downloading click-8.1.3-py3-none-any.whl (96 kB)\n",
            "\u001b[2K     \u001b[90m━━━━━━━━━━━━━━━━━━━━━━━━━━━━━━━━━━━━━━━━\u001b[0m \u001b[32m96.6/96.6 kB\u001b[0m \u001b[31m1.5 MB/s\u001b[0m eta \u001b[36m0:00:00\u001b[0m\n",
            "\u001b[?25hCollecting Cython==0.29.30 (from -r requirements.txt (line 2))\n",
            "  Downloading Cython-0.29.30-cp310-cp310-manylinux_2_17_x86_64.manylinux2014_x86_64.manylinux_2_24_x86_64.whl (1.9 MB)\n",
            "\u001b[2K     \u001b[90m━━━━━━━━━━━━━━━━━━━━━━━━━━━━━━━━━━━━━━━━\u001b[0m \u001b[32m1.9/1.9 MB\u001b[0m \u001b[31m22.3 MB/s\u001b[0m eta \u001b[36m0:00:00\u001b[0m\n",
            "\u001b[?25hCollecting ffmpeg==1.4 (from -r requirements.txt (line 3))\n",
            "  Downloading ffmpeg-1.4.tar.gz (5.1 kB)\n",
            "  Preparing metadata (setup.py) ... \u001b[?25l\u001b[?25hdone\n",
            "Collecting json_tricks==3.16.1 (from -r requirements.txt (line 4))\n",
            "  Downloading json_tricks-3.16.1-py2.py3-none-any.whl (27 kB)\n",
            "Requirement already satisfied: matplotlib>=3.5.2 in /usr/local/lib/python3.10/dist-packages (from -r requirements.txt (line 5)) (3.7.1)\n",
            "Collecting munkres==1.1.4 (from -r requirements.txt (line 6))\n",
            "  Downloading munkres-1.1.4-py2.py3-none-any.whl (7.0 kB)\n",
            "Requirement already satisfied: numpy>=1.23.5 in /usr/local/lib/python3.10/dist-packages (from -r requirements.txt (line 7)) (1.23.5)\n",
            "Requirement already satisfied: opencv_python>=4.6.0.66 in /usr/local/lib/python3.10/dist-packages (from -r requirements.txt (line 8)) (4.8.0.76)\n",
            "Collecting Pillow==9.5.0 (from -r requirements.txt (line 9))\n",
            "  Downloading Pillow-9.5.0-cp310-cp310-manylinux_2_28_x86_64.whl (3.4 MB)\n",
            "\u001b[2K     \u001b[90m━━━━━━━━━━━━━━━━━━━━━━━━━━━━━━━━━━━━━━━━\u001b[0m \u001b[32m3.4/3.4 MB\u001b[0m \u001b[31m80.4 MB/s\u001b[0m eta \u001b[36m0:00:00\u001b[0m\n",
            "\u001b[?25hCollecting pycocotools==2.0.6 (from -r requirements.txt (line 10))\n",
            "  Downloading pycocotools-2.0.6.tar.gz (24 kB)\n",
            "  Installing build dependencies ... \u001b[?25l\u001b[?25hdone\n",
            "  Getting requirements to build wheel ... \u001b[?25l\u001b[?25hdone\n",
            "  Preparing metadata (pyproject.toml) ... \u001b[?25l\u001b[?25hdone\n",
            "Collecting PyYAML==6.0 (from -r requirements.txt (line 11))\n",
            "  Downloading PyYAML-6.0-cp310-cp310-manylinux_2_5_x86_64.manylinux1_x86_64.manylinux_2_12_x86_64.manylinux2010_x86_64.whl (682 kB)\n",
            "\u001b[2K     \u001b[90m━━━━━━━━━━━━━━━━━━━━━━━━━━━━━━━━━━━━━━\u001b[0m \u001b[32m682.2/682.2 kB\u001b[0m \u001b[31m23.9 MB/s\u001b[0m eta \u001b[36m0:00:00\u001b[0m\n",
            "\u001b[?25hRequirement already satisfied: setuptools==67.7.2 in /usr/local/lib/python3.10/dist-packages (from -r requirements.txt (line 12)) (67.7.2)\n",
            "Requirement already satisfied: torch>=1.11.0 in /usr/local/lib/python3.10/dist-packages (from -r requirements.txt (line 13)) (2.0.1+cu118)\n",
            "Requirement already satisfied: torchvision>=0.10.0 in /usr/local/lib/python3.10/dist-packages (from -r requirements.txt (line 14)) (0.15.2+cu118)\n",
            "Collecting tqdm==4.64.1 (from -r requirements.txt (line 15))\n",
            "  Downloading tqdm-4.64.1-py2.py3-none-any.whl (78 kB)\n",
            "\u001b[2K     \u001b[90m━━━━━━━━━━━━━━━━━━━━━━━━━━━━━━━━━━━━━━━━\u001b[0m \u001b[32m78.5/78.5 kB\u001b[0m \u001b[31m8.4 MB/s\u001b[0m eta \u001b[36m0:00:00\u001b[0m\n",
            "\u001b[?25hCollecting ultralytics>=8.0.120 (from -r requirements.txt (line 16))\n",
            "  Downloading ultralytics-8.0.162-py3-none-any.whl (609 kB)\n",
            "\u001b[2K     \u001b[90m━━━━━━━━━━━━━━━━━━━━━━━━━━━━━━━━━━━━━━\u001b[0m \u001b[32m609.5/609.5 kB\u001b[0m \u001b[31m28.3 MB/s\u001b[0m eta \u001b[36m0:00:00\u001b[0m\n",
            "\u001b[?25hCollecting filterpy==1.4.5 (from -r requirements.txt (line 17))\n",
            "  Downloading filterpy-1.4.5.zip (177 kB)\n",
            "\u001b[2K     \u001b[90m━━━━━━━━━━━━━━━━━━━━━━━━━━━━━━━━━━━━━━\u001b[0m \u001b[32m178.0/178.0 kB\u001b[0m \u001b[31m14.5 MB/s\u001b[0m eta \u001b[36m0:00:00\u001b[0m\n",
            "\u001b[?25h  Preparing metadata (setup.py) ... \u001b[?25l\u001b[?25hdone\n",
            "Collecting lap==0.4.0 (from -r requirements.txt (line 18))\n",
            "  Downloading lap-0.4.0.tar.gz (1.5 MB)\n",
            "\u001b[2K     \u001b[90m━━━━━━━━━━━━━━━━━━━━━━━━━━━━━━━━━━━━━━━━\u001b[0m \u001b[32m1.5/1.5 MB\u001b[0m \u001b[31m28.8 MB/s\u001b[0m eta \u001b[36m0:00:00\u001b[0m\n",
            "\u001b[?25h  Preparing metadata (setup.py) ... \u001b[?25l\u001b[?25hdone\n",
            "Collecting scikit-image==0.20.0 (from -r requirements.txt (line 19))\n",
            "  Downloading scikit_image-0.20.0-cp310-cp310-manylinux_2_17_x86_64.manylinux2014_x86_64.whl (13.2 MB)\n",
            "\u001b[2K     \u001b[90m━━━━━━━━━━━━━━━━━━━━━━━━━━━━━━━━━━━━━━━━\u001b[0m \u001b[32m13.2/13.2 MB\u001b[0m \u001b[31m58.3 MB/s\u001b[0m eta \u001b[36m0:00:00\u001b[0m\n",
            "\u001b[?25hCollecting onnxruntime-gpu>=1.13.0 (from -r requirements.txt (line 21))\n",
            "  Downloading onnxruntime_gpu-1.15.1-cp310-cp310-manylinux_2_17_x86_64.manylinux2014_x86_64.whl (121.6 MB)\n",
            "\u001b[2K     \u001b[90m━━━━━━━━━━━━━━━━━━━━━━━━━━━━━━━━━━━━━━━\u001b[0m \u001b[32m121.6/121.6 MB\u001b[0m \u001b[31m8.2 MB/s\u001b[0m eta \u001b[36m0:00:00\u001b[0m\n",
            "\u001b[?25hCollecting pycuda>=2022.2.2 (from -r requirements.txt (line 22))\n",
            "  Downloading pycuda-2022.2.2.tar.gz (1.7 MB)\n",
            "\u001b[2K     \u001b[90m━━━━━━━━━━━━━━━━━━━━━━━━━━━━━━━━━━━━━━━━\u001b[0m \u001b[32m1.7/1.7 MB\u001b[0m \u001b[31m68.9 MB/s\u001b[0m eta \u001b[36m0:00:00\u001b[0m\n",
            "\u001b[?25h  Installing build dependencies ... \u001b[?25l\u001b[?25hdone\n",
            "  Getting requirements to build wheel ... \u001b[?25l\u001b[?25hdone\n",
            "  Preparing metadata (pyproject.toml) ... \u001b[?25l\u001b[?25hdone\n",
            "Collecting nvidia-tensorrt>=8.4 (from -r requirements.txt (line 23))\n",
            "  Downloading nvidia_tensorrt-99.0.0-py3-none-manylinux_2_17_x86_64.whl (17 kB)\n",
            "Requirement already satisfied: scipy in /usr/local/lib/python3.10/dist-packages (from filterpy==1.4.5->-r requirements.txt (line 17)) (1.10.1)\n",
            "Requirement already satisfied: networkx>=2.8 in /usr/local/lib/python3.10/dist-packages (from scikit-image==0.20.0->-r requirements.txt (line 19)) (3.1)\n",
            "Requirement already satisfied: imageio>=2.4.1 in /usr/local/lib/python3.10/dist-packages (from scikit-image==0.20.0->-r requirements.txt (line 19)) (2.31.1)\n",
            "Requirement already satisfied: tifffile>=2019.7.26 in /usr/local/lib/python3.10/dist-packages (from scikit-image==0.20.0->-r requirements.txt (line 19)) (2023.8.12)\n",
            "Requirement already satisfied: PyWavelets>=1.1.1 in /usr/local/lib/python3.10/dist-packages (from scikit-image==0.20.0->-r requirements.txt (line 19)) (1.4.1)\n",
            "Requirement already satisfied: packaging>=20.0 in /usr/local/lib/python3.10/dist-packages (from scikit-image==0.20.0->-r requirements.txt (line 19)) (23.1)\n",
            "Requirement already satisfied: lazy_loader>=0.1 in /usr/local/lib/python3.10/dist-packages (from scikit-image==0.20.0->-r requirements.txt (line 19)) (0.3)\n",
            "Requirement already satisfied: contourpy>=1.0.1 in /usr/local/lib/python3.10/dist-packages (from matplotlib>=3.5.2->-r requirements.txt (line 5)) (1.1.0)\n",
            "Requirement already satisfied: cycler>=0.10 in /usr/local/lib/python3.10/dist-packages (from matplotlib>=3.5.2->-r requirements.txt (line 5)) (0.11.0)\n",
            "Requirement already satisfied: fonttools>=4.22.0 in /usr/local/lib/python3.10/dist-packages (from matplotlib>=3.5.2->-r requirements.txt (line 5)) (4.42.0)\n",
            "Requirement already satisfied: kiwisolver>=1.0.1 in /usr/local/lib/python3.10/dist-packages (from matplotlib>=3.5.2->-r requirements.txt (line 5)) (1.4.4)\n",
            "Requirement already satisfied: pyparsing>=2.3.1 in /usr/local/lib/python3.10/dist-packages (from matplotlib>=3.5.2->-r requirements.txt (line 5)) (3.1.1)\n",
            "Requirement already satisfied: python-dateutil>=2.7 in /usr/local/lib/python3.10/dist-packages (from matplotlib>=3.5.2->-r requirements.txt (line 5)) (2.8.2)\n",
            "Requirement already satisfied: filelock in /usr/local/lib/python3.10/dist-packages (from torch>=1.11.0->-r requirements.txt (line 13)) (3.12.2)\n",
            "Requirement already satisfied: typing-extensions in /usr/local/lib/python3.10/dist-packages (from torch>=1.11.0->-r requirements.txt (line 13)) (4.7.1)\n",
            "Requirement already satisfied: sympy in /usr/local/lib/python3.10/dist-packages (from torch>=1.11.0->-r requirements.txt (line 13)) (1.12)\n",
            "Requirement already satisfied: jinja2 in /usr/local/lib/python3.10/dist-packages (from torch>=1.11.0->-r requirements.txt (line 13)) (3.1.2)\n",
            "Requirement already satisfied: triton==2.0.0 in /usr/local/lib/python3.10/dist-packages (from torch>=1.11.0->-r requirements.txt (line 13)) (2.0.0)\n",
            "Requirement already satisfied: cmake in /usr/local/lib/python3.10/dist-packages (from triton==2.0.0->torch>=1.11.0->-r requirements.txt (line 13)) (3.27.2)\n",
            "Requirement already satisfied: lit in /usr/local/lib/python3.10/dist-packages (from triton==2.0.0->torch>=1.11.0->-r requirements.txt (line 13)) (16.0.6)\n",
            "Requirement already satisfied: requests in /usr/local/lib/python3.10/dist-packages (from torchvision>=0.10.0->-r requirements.txt (line 14)) (2.31.0)\n",
            "Requirement already satisfied: pandas>=1.1.4 in /usr/local/lib/python3.10/dist-packages (from ultralytics>=8.0.120->-r requirements.txt (line 16)) (1.5.3)\n",
            "Requirement already satisfied: seaborn>=0.11.0 in /usr/local/lib/python3.10/dist-packages (from ultralytics>=8.0.120->-r requirements.txt (line 16)) (0.12.2)\n",
            "Requirement already satisfied: psutil in /usr/local/lib/python3.10/dist-packages (from ultralytics>=8.0.120->-r requirements.txt (line 16)) (5.9.5)\n",
            "Requirement already satisfied: py-cpuinfo in /usr/local/lib/python3.10/dist-packages (from ultralytics>=8.0.120->-r requirements.txt (line 16)) (9.0.0)\n",
            "Collecting coloredlogs (from onnxruntime-gpu>=1.13.0->-r requirements.txt (line 21))\n",
            "  Downloading coloredlogs-15.0.1-py2.py3-none-any.whl (46 kB)\n",
            "\u001b[2K     \u001b[90m━━━━━━━━━━━━━━━━━━━━━━━━━━━━━━━━━━━━━━━━\u001b[0m \u001b[32m46.0/46.0 kB\u001b[0m \u001b[31m5.0 MB/s\u001b[0m eta \u001b[36m0:00:00\u001b[0m\n",
            "\u001b[?25hRequirement already satisfied: flatbuffers in /usr/local/lib/python3.10/dist-packages (from onnxruntime-gpu>=1.13.0->-r requirements.txt (line 21)) (23.5.26)\n",
            "Requirement already satisfied: protobuf in /usr/local/lib/python3.10/dist-packages (from onnxruntime-gpu>=1.13.0->-r requirements.txt (line 21)) (3.20.3)\n",
            "Collecting pytools>=2011.2 (from pycuda>=2022.2.2->-r requirements.txt (line 22))\n",
            "  Downloading pytools-2023.1.1-py2.py3-none-any.whl (70 kB)\n",
            "\u001b[2K     \u001b[90m━━━━━━━━━━━━━━━━━━━━━━━━━━━━━━━━━━━━━━━━\u001b[0m \u001b[32m70.6/70.6 kB\u001b[0m \u001b[31m8.9 MB/s\u001b[0m eta \u001b[36m0:00:00\u001b[0m\n",
            "\u001b[?25hRequirement already satisfied: appdirs>=1.4.0 in /usr/local/lib/python3.10/dist-packages (from pycuda>=2022.2.2->-r requirements.txt (line 22)) (1.4.4)\n",
            "Collecting mako (from pycuda>=2022.2.2->-r requirements.txt (line 22))\n",
            "  Downloading Mako-1.2.4-py3-none-any.whl (78 kB)\n",
            "\u001b[2K     \u001b[90m━━━━━━━━━━━━━━━━━━━━━━━━━━━━━━━━━━━━━━━━\u001b[0m \u001b[32m78.7/78.7 kB\u001b[0m \u001b[31m10.1 MB/s\u001b[0m eta \u001b[36m0:00:00\u001b[0m\n",
            "\u001b[?25hCollecting tensorrt (from nvidia-tensorrt>=8.4->-r requirements.txt (line 23))\n",
            "  Downloading tensorrt-8.6.1.post1.tar.gz (18 kB)\n",
            "  Preparing metadata (setup.py) ... \u001b[?25l\u001b[?25hdone\n",
            "Requirement already satisfied: pytz>=2020.1 in /usr/local/lib/python3.10/dist-packages (from pandas>=1.1.4->ultralytics>=8.0.120->-r requirements.txt (line 16)) (2023.3)\n",
            "Requirement already satisfied: six>=1.5 in /usr/local/lib/python3.10/dist-packages (from python-dateutil>=2.7->matplotlib>=3.5.2->-r requirements.txt (line 5)) (1.16.0)\n",
            "Requirement already satisfied: platformdirs>=2.2.0 in /usr/local/lib/python3.10/dist-packages (from pytools>=2011.2->pycuda>=2022.2.2->-r requirements.txt (line 22)) (3.10.0)\n",
            "Requirement already satisfied: charset-normalizer<4,>=2 in /usr/local/lib/python3.10/dist-packages (from requests->torchvision>=0.10.0->-r requirements.txt (line 14)) (3.2.0)\n",
            "Requirement already satisfied: idna<4,>=2.5 in /usr/local/lib/python3.10/dist-packages (from requests->torchvision>=0.10.0->-r requirements.txt (line 14)) (3.4)\n",
            "Requirement already satisfied: urllib3<3,>=1.21.1 in /usr/local/lib/python3.10/dist-packages (from requests->torchvision>=0.10.0->-r requirements.txt (line 14)) (2.0.4)\n",
            "Requirement already satisfied: certifi>=2017.4.17 in /usr/local/lib/python3.10/dist-packages (from requests->torchvision>=0.10.0->-r requirements.txt (line 14)) (2023.7.22)\n",
            "Collecting humanfriendly>=9.1 (from coloredlogs->onnxruntime-gpu>=1.13.0->-r requirements.txt (line 21))\n",
            "  Downloading humanfriendly-10.0-py2.py3-none-any.whl (86 kB)\n",
            "\u001b[2K     \u001b[90m━━━━━━━━━━━━━━━━━━━━━━━━━━━━━━━━━━━━━━━━\u001b[0m \u001b[32m86.8/86.8 kB\u001b[0m \u001b[31m10.6 MB/s\u001b[0m eta \u001b[36m0:00:00\u001b[0m\n",
            "\u001b[?25hRequirement already satisfied: MarkupSafe>=2.0 in /usr/local/lib/python3.10/dist-packages (from jinja2->torch>=1.11.0->-r requirements.txt (line 13)) (2.1.3)\n",
            "Requirement already satisfied: mpmath>=0.19 in /usr/local/lib/python3.10/dist-packages (from sympy->torch>=1.11.0->-r requirements.txt (line 13)) (1.3.0)\n",
            "Building wheels for collected packages: ffmpeg, pycocotools, filterpy, lap, pycuda, tensorrt\n",
            "  Building wheel for ffmpeg (setup.py) ... \u001b[?25l\u001b[?25hdone\n",
            "  Created wheel for ffmpeg: filename=ffmpeg-1.4-py3-none-any.whl size=6083 sha256=08428d07d063a80edeb279edfd570e8c54e96ac7affb9923f1e23776b0a72e62\n",
            "  Stored in directory: /root/.cache/pip/wheels/8e/7a/69/cd6aeb83b126a7f04cbe7c9d929028dc52a6e7d525ff56003a\n",
            "  Building wheel for pycocotools (pyproject.toml) ... \u001b[?25l\u001b[?25hdone\n",
            "  Created wheel for pycocotools: filename=pycocotools-2.0.6-cp310-cp310-linux_x86_64.whl size=380062 sha256=0a22566ac56e72a9021b8bf27385ee7ed152e267364a14c551a7686f30e8b534\n",
            "  Stored in directory: /root/.cache/pip/wheels/58/e6/f9/f87c8f8be098b51b616871315318329cae12cdb618f4caac93\n",
            "  Building wheel for filterpy (setup.py) ... \u001b[?25l\u001b[?25hdone\n",
            "  Created wheel for filterpy: filename=filterpy-1.4.5-py3-none-any.whl size=110459 sha256=ffce737e9f61ee6188702581777c7171f3ba626e884926c77b147a1c6119e185\n",
            "  Stored in directory: /root/.cache/pip/wheels/0f/0c/ea/218f266af4ad626897562199fbbcba521b8497303200186102\n",
            "  Building wheel for lap (setup.py) ... \u001b[?25l\u001b[?25hdone\n",
            "  Created wheel for lap: filename=lap-0.4.0-cp310-cp310-linux_x86_64.whl size=1628967 sha256=9c889baa40e25b0547985a9ce8c9673aca50b6a239b643e72dcc7cf9c8e57bfb\n",
            "  Stored in directory: /root/.cache/pip/wheels/00/42/2e/9dfe19270eea279d79e84767ff0d7b8082c3bf776cad00e83d\n",
            "  Building wheel for pycuda (pyproject.toml) ... \u001b[?25l\u001b[?25hdone\n",
            "  Created wheel for pycuda: filename=pycuda-2022.2.2-cp310-cp310-linux_x86_64.whl size=661265 sha256=e7af040486f59c0e9d00a8d26cbafe750aa920a327b5fa286f802c6cc77c4777\n",
            "  Stored in directory: /root/.cache/pip/wheels/1d/7b/06/82a395a243fce00035dea9914d92bbef0013401497d849f8bc\n",
            "  Building wheel for tensorrt (setup.py) ... \u001b[?25l\u001b[?25hdone\n",
            "  Created wheel for tensorrt: filename=tensorrt-8.6.1.post1-py2.py3-none-any.whl size=17283 sha256=aaace063614a6007446aaef885e23aa66889a460c079ae50b411e9940076ac18\n",
            "  Stored in directory: /root/.cache/pip/wheels/f4/c8/0e/b79b08e45752491b9acfdbd69e8a609e8b2ed7640dda5a3e59\n",
            "Successfully built ffmpeg pycocotools filterpy lap pycuda tensorrt\n",
            "Installing collected packages: munkres, lap, json_tricks, ffmpeg, tqdm, tensorrt, PyYAML, pytools, Pillow, mako, humanfriendly, Cython, click, pycuda, nvidia-tensorrt, coloredlogs, scikit-image, pycocotools, onnxruntime-gpu, filterpy, ultralytics\n",
            "  Attempting uninstall: tqdm\n",
            "    Found existing installation: tqdm 4.66.1\n",
            "    Uninstalling tqdm-4.66.1:\n",
            "      Successfully uninstalled tqdm-4.66.1\n",
            "  Attempting uninstall: PyYAML\n",
            "    Found existing installation: PyYAML 6.0.1\n",
            "    Uninstalling PyYAML-6.0.1:\n",
            "      Successfully uninstalled PyYAML-6.0.1\n",
            "  Attempting uninstall: Pillow\n",
            "    Found existing installation: Pillow 9.4.0\n",
            "    Uninstalling Pillow-9.4.0:\n",
            "      Successfully uninstalled Pillow-9.4.0\n",
            "  Attempting uninstall: Cython\n",
            "    Found existing installation: Cython 0.29.36\n",
            "    Uninstalling Cython-0.29.36:\n",
            "      Successfully uninstalled Cython-0.29.36\n",
            "  Attempting uninstall: click\n",
            "    Found existing installation: click 8.1.7\n",
            "    Uninstalling click-8.1.7:\n",
            "      Successfully uninstalled click-8.1.7\n",
            "  Attempting uninstall: scikit-image\n",
            "    Found existing installation: scikit-image 0.19.3\n",
            "    Uninstalling scikit-image-0.19.3:\n",
            "      Successfully uninstalled scikit-image-0.19.3\n",
            "  Attempting uninstall: pycocotools\n",
            "    Found existing installation: pycocotools 2.0.7\n",
            "    Uninstalling pycocotools-2.0.7:\n",
            "      Successfully uninstalled pycocotools-2.0.7\n",
            "Successfully installed Cython-0.29.30 Pillow-9.5.0 PyYAML-6.0 click-8.1.3 coloredlogs-15.0.1 ffmpeg-1.4 filterpy-1.4.5 humanfriendly-10.0 json_tricks-3.16.1 lap-0.4.0 mako-1.2.4 munkres-1.1.4 nvidia-tensorrt-99.0.0 onnxruntime-gpu-1.15.1 pycocotools-2.0.6 pycuda-2022.2.2 pytools-2023.1.1 scikit-image-0.20.0 tensorrt-8.6.1.post1 tqdm-4.64.1 ultralytics-8.0.162\n"
          ]
        },
        {
          "output_type": "display_data",
          "data": {
            "application/vnd.colab-display-data+json": {
              "pip_warning": {
                "packages": [
                  "PIL"
                ]
              }
            }
          },
          "metadata": {}
        },
        {
          "output_type": "stream",
          "name": "stdout",
          "text": [
            "Obtaining file:///content/easy_ViTPose\n",
            "  Preparing metadata (setup.py) ... \u001b[?25l\u001b[?25hdone\n",
            "Installing collected packages: easy-ViTPose\n",
            "  Running setup.py develop for easy-ViTPose\n",
            "Successfully installed easy-ViTPose-0.4\n",
            "Collecting huggingface_hub\n",
            "  Downloading huggingface_hub-0.16.4-py3-none-any.whl (268 kB)\n",
            "\u001b[2K     \u001b[90m━━━━━━━━━━━━━━━━━━━━━━━━━━━━━━━━━━━━━━━\u001b[0m \u001b[32m268.8/268.8 kB\u001b[0m \u001b[31m5.3 MB/s\u001b[0m eta \u001b[36m0:00:00\u001b[0m\n",
            "\u001b[?25hRequirement already satisfied: filelock in /usr/local/lib/python3.10/dist-packages (from huggingface_hub) (3.12.2)\n",
            "Requirement already satisfied: fsspec in /usr/local/lib/python3.10/dist-packages (from huggingface_hub) (2023.6.0)\n",
            "Requirement already satisfied: requests in /usr/local/lib/python3.10/dist-packages (from huggingface_hub) (2.31.0)\n",
            "Requirement already satisfied: tqdm>=4.42.1 in /usr/local/lib/python3.10/dist-packages (from huggingface_hub) (4.64.1)\n",
            "Requirement already satisfied: pyyaml>=5.1 in /usr/local/lib/python3.10/dist-packages (from huggingface_hub) (6.0)\n",
            "Requirement already satisfied: typing-extensions>=3.7.4.3 in /usr/local/lib/python3.10/dist-packages (from huggingface_hub) (4.7.1)\n",
            "Requirement already satisfied: packaging>=20.9 in /usr/local/lib/python3.10/dist-packages (from huggingface_hub) (23.1)\n",
            "Requirement already satisfied: charset-normalizer<4,>=2 in /usr/local/lib/python3.10/dist-packages (from requests->huggingface_hub) (3.2.0)\n",
            "Requirement already satisfied: idna<4,>=2.5 in /usr/local/lib/python3.10/dist-packages (from requests->huggingface_hub) (3.4)\n",
            "Requirement already satisfied: urllib3<3,>=1.21.1 in /usr/local/lib/python3.10/dist-packages (from requests->huggingface_hub) (2.0.4)\n",
            "Requirement already satisfied: certifi>=2017.4.17 in /usr/local/lib/python3.10/dist-packages (from requests->huggingface_hub) (2023.7.22)\n",
            "Installing collected packages: huggingface_hub\n",
            "Successfully installed huggingface_hub-0.16.4\n",
            "Collecting onnx\n",
            "  Downloading onnx-1.14.0-cp310-cp310-manylinux_2_17_x86_64.manylinux2014_x86_64.whl (14.6 MB)\n",
            "\u001b[2K     \u001b[90m━━━━━━━━━━━━━━━━━━━━━━━━━━━━━━━━━━━━━━━━\u001b[0m \u001b[32m14.6/14.6 MB\u001b[0m \u001b[31m76.4 MB/s\u001b[0m eta \u001b[36m0:00:00\u001b[0m\n",
            "\u001b[?25hRequirement already satisfied: onnxruntime-gpu in /usr/local/lib/python3.10/dist-packages (1.15.1)\n",
            "Requirement already satisfied: numpy in /usr/local/lib/python3.10/dist-packages (from onnx) (1.23.5)\n",
            "Requirement already satisfied: protobuf>=3.20.2 in /usr/local/lib/python3.10/dist-packages (from onnx) (3.20.3)\n",
            "Requirement already satisfied: typing-extensions>=3.6.2.1 in /usr/local/lib/python3.10/dist-packages (from onnx) (4.7.1)\n",
            "Requirement already satisfied: coloredlogs in /usr/local/lib/python3.10/dist-packages (from onnxruntime-gpu) (15.0.1)\n",
            "Requirement already satisfied: flatbuffers in /usr/local/lib/python3.10/dist-packages (from onnxruntime-gpu) (23.5.26)\n",
            "Requirement already satisfied: packaging in /usr/local/lib/python3.10/dist-packages (from onnxruntime-gpu) (23.1)\n",
            "Requirement already satisfied: sympy in /usr/local/lib/python3.10/dist-packages (from onnxruntime-gpu) (1.12)\n",
            "Requirement already satisfied: humanfriendly>=9.1 in /usr/local/lib/python3.10/dist-packages (from coloredlogs->onnxruntime-gpu) (10.0)\n",
            "Requirement already satisfied: mpmath>=0.19 in /usr/local/lib/python3.10/dist-packages (from sympy->onnxruntime-gpu) (1.3.0)\n",
            "Installing collected packages: onnx\n",
            "Successfully installed onnx-1.14.0\n"
          ]
        }
      ]
    },
    {
      "cell_type": "code",
      "source": [
        "from google.colab import drive\n",
        "drive.mount('/content/gdrive')"
      ],
      "metadata": {
        "id": "uld8UoCqlB14",
        "colab": {
          "base_uri": "https://localhost:8080/"
        },
        "outputId": "7e822004-42f3-4054-e370-bd05cc35be61"
      },
      "execution_count": null,
      "outputs": [
        {
          "output_type": "stream",
          "name": "stdout",
          "text": [
            "Mounted at /content/gdrive\n"
          ]
        }
      ]
    },
    {
      "cell_type": "code",
      "execution_count": null,
      "metadata": {
        "id": "ssZOhe57kxgL"
      },
      "outputs": [],
      "source": [
        "import cv2\n",
        "import os\n",
        "from google.colab import files\n",
        "\n",
        "from huggingface_hub import hf_hub_download\n",
        "\n",
        "import numpy as np\n",
        "from PIL import Image\n",
        "from urllib.request import urlopen\n",
        "import matplotlib.pyplot as plt\n",
        "from google.colab.patches import cv2_imshow"
      ]
    },
    {
      "cell_type": "markdown",
      "source": [
        "# ViTPose main_code edit"
      ],
      "metadata": {
        "id": "E0F2sv-zlbJm"
      }
    },
    {
      "cell_type": "code",
      "source": [
        "MODEL_TYPE = 'onnx'\n",
        "MODEL_SIZE = 'l'\n",
        "YOLO_TYPE = 'onnx'\n",
        "YOLO_SIZE = 'n'\n",
        "ext = {'tensorrt': '.engine', 'onnx': '.onnx', 'torch': '.pth'}[MODEL_TYPE]\n",
        "ext_yolo = {'onnx': '.onnx', 'torch': '.pt'}[YOLO_TYPE]\n",
        "\n",
        "REPO_ID = 'JunkyByte/easy_ViTPose'\n",
        "FILENAME = os.path.join(MODEL_TYPE, 'vitpose-25-' + MODEL_SIZE) + ext\n",
        "FILENAME_YOLO = 'yolov5/yolov5' + YOLO_SIZE + ext_yolo\n",
        "\n",
        "print(f'Downloading model {REPO_ID}/{FILENAME}')\n",
        "model_path = hf_hub_download(repo_id=REPO_ID, filename=FILENAME)\n",
        "yolo_path = hf_hub_download(repo_id=REPO_ID, filename=FILENAME_YOLO)"
      ],
      "metadata": {
        "id": "zjGbqOXolMv-",
        "colab": {
          "base_uri": "https://localhost:8080/",
          "height": 100,
          "referenced_widgets": [
            "2273361cb5794901a843a683134e7f41",
            "34b6ffe079794d9c91d971a33fb691fe",
            "bcd88bc072a449d597a029677677f54b",
            "46aa2dd46e1642c695a3d751cfaa871a",
            "6f57d8556ac04178b75b7f599256ee33",
            "d2f005e6bc9b49618c4d75ba070e9271",
            "98bf2a2ffe534a5ca1b02f23dd1b110d",
            "d6558c1022f3428793b8e30e96b0dc31",
            "426c99ab003c4fdebcd3338e2eb0c0ce",
            "aff03a533c194eb19b66977ec805268d",
            "5b67c94f79824331b812e52080b4b0e7",
            "4ffe1f340b7b47d69a834d0e29087428",
            "b3694f94afff470e9d8b4bd0d6d674d0",
            "43dc5203932d454bb349910dd57e8e06",
            "82ee1cfd942345fa95228eab9761b654",
            "bb86cf4c14a5499ea70a63f08fe0d37f",
            "2ed5d2e25bab4523855997bc8175bb1d",
            "7b395d368cc24ef78c3ce779fb3a8f78",
            "059a85f2f05c4d95a2499213398e7aa0",
            "3c4e9cead41b4601bf4fd4d709b471c0",
            "05ac0cce87f848a8a64a4e339733442e",
            "2ec2602e1c9c40b585dfd4ff633bf4c0"
          ]
        },
        "outputId": "af031f30-a6f0-499f-a56f-d94b7952d779"
      },
      "execution_count": null,
      "outputs": [
        {
          "output_type": "stream",
          "name": "stdout",
          "text": [
            "Downloading model JunkyByte/easy_ViTPose/onnx/vitpose-25-l.onnx\n"
          ]
        },
        {
          "output_type": "display_data",
          "data": {
            "text/plain": [
              "Downloading vitpose-25-l.onnx:   0%|          | 0.00/1.23G [00:00<?, ?B/s]"
            ],
            "application/vnd.jupyter.widget-view+json": {
              "version_major": 2,
              "version_minor": 0,
              "model_id": "2273361cb5794901a843a683134e7f41"
            }
          },
          "metadata": {}
        },
        {
          "output_type": "display_data",
          "data": {
            "text/plain": [
              "Downloading yolov5n.onnx:   0%|          | 0.00/7.52M [00:00<?, ?B/s]"
            ],
            "application/vnd.jupyter.widget-view+json": {
              "version_major": 2,
              "version_minor": 0,
              "model_id": "4ffe1f340b7b47d69a834d0e29087428"
            }
          },
          "metadata": {}
        }
      ]
    },
    {
      "cell_type": "code",
      "source": [
        "%cd /content/easy_ViTPose/easy_ViTPose/\n",
        "!ls"
      ],
      "metadata": {
        "id": "n3kUPRkklXR7",
        "colab": {
          "base_uri": "https://localhost:8080/"
        },
        "outputId": "891c4014-ff2c-4376-9b1c-9ddac03991e0"
      },
      "execution_count": null,
      "outputs": [
        {
          "output_type": "stream",
          "name": "stdout",
          "text": [
            "/content/easy_ViTPose/easy_ViTPose\n",
            "configs      easy_ViTPose.egg-info  sort.py\t   train.py\t    vit_utils\n",
            "config.yaml  inference.py\t    to_onnx.ipynb  utils_engine.py\n",
            "datasets     __init__.py\t    to_trt.ipynb   vit_models\n"
          ]
        }
      ]
    },
    {
      "cell_type": "code",
      "source": [
        "# If you get an error from PIL restart environment and rerun this cell to update packages version\n",
        "# from easy_ViTPose.inference import VitInference\n",
        "import abc\n",
        "import time\n",
        "from typing import Optional\n",
        "import json\n",
        "import os\n",
        "import tqdm\n",
        "\n",
        "from PIL import Image\n",
        "import cv2\n",
        "import numpy as np\n",
        "import torch\n",
        "\n",
        "from configs.ViTPose_common import data_cfg\n",
        "from vit_models.model import ViTPose\n",
        "from vit_utils.top_down_eval import keypoints_from_heatmaps\n",
        "from vit_utils.visualization import draw_points_and_skeleton, joints_dict\n",
        "from vit_utils.inference import pad_image, VideoReader, NumpyEncoder, draw_bboxes\n",
        "from sort import Sort\n",
        "\n",
        "try:  # Add bools -> error stack\n",
        "    import pycuda.driver as cuda  # noqa: [F401]\n",
        "    import pycuda.autoinit  # noqa: [F401]\n",
        "    import utils_engine as engine_utils\n",
        "    import tensorrt as trt\n",
        "    has_trt = True\n",
        "except ModuleNotFoundError:\n",
        "    pass\n",
        "\n",
        "try:\n",
        "    import onnxruntime\n",
        "    has_onnx = True\n",
        "except ModuleNotFoundError:\n",
        "    pass\n",
        "\n",
        "__all__ = ['VitInference']\n",
        "MEAN = [0.485, 0.456, 0.406]\n",
        "STD = [0.229, 0.224, 0.225]\n",
        "\n",
        "\n",
        "class VitInference:\n",
        "    \"\"\"\n",
        "    Class for performing inference using ViTPose models with YOLOv5 human detection detection and SORT tracking.\n",
        "\n",
        "    Args:\n",
        "        model (str): Path to the ViT model file (.pth, .onnx, .engine).\n",
        "        yolo_name (str): Name of the YOLOv5 model to load.\n",
        "        model_name (str, optional): Name of the ViT model architecture to use. Valid values are 's', 'b', 'l', 'h'.\n",
        "                                    Defaults to None, is necessary when using .pth checkpoints.\n",
        "        yolo_size (int, optional): Size of the input image for YOLOv5 model. Defaults to 320.\n",
        "        device (str, optional): Device to use for inference. Defaults to 'cuda' if available, else 'cpu'.\n",
        "        is_video (bool, optional): Flag indicating if the input is video. Defaults to False.\n",
        "        single_pose (bool, optional): Flag indicating if the video (on images this flag has no effect) will contain a single pose.\n",
        "                                      In this case the SORT tracker is not used (increasing performance) but people id tracking\n",
        "                                      won't be consistent among frames.\n",
        "        yolo_step (int, optional): The tracker can be used to predict the bboxes instead of yolo for performance,\n",
        "                                   this flag specifies how often yolo is applied (e.g. 1 applies yolo every frame).\n",
        "                                   This does not have any effect when is_video is False.\n",
        "    \"\"\"\n",
        "\n",
        "    def __init__(self, model: str,\n",
        "                 yolo_name: str,\n",
        "                 model_name: Optional[str] = None,\n",
        "                 yolo_size: Optional[int] = 320,\n",
        "                 device: Optional[str] = None,\n",
        "                 is_video: Optional[bool] = False,\n",
        "                 single_pose: Optional[bool] = False,\n",
        "                 yolo_step: Optional[int] = 1):\n",
        "        assert os.path.isfile(model), f'The model file {model} does not exist'\n",
        "        assert os.path.isfile(yolo_name), f'The YOLOv5 model {yolo_name} does not exist'\n",
        "\n",
        "        # Device priority is cuda / mps / cpu\n",
        "        if device is None:\n",
        "            if torch.cuda.is_available():\n",
        "                device = 'cuda'\n",
        "            elif hasattr(torch.backends, 'mps') and torch.backends.mps.is_available():\n",
        "                device = 'mps'\n",
        "            else:\n",
        "                device = 'cpu'\n",
        "\n",
        "        self.device = torch.device(device)\n",
        "        self.yolo = torch.hub.load(\"ultralytics/yolov5\", \"custom\", yolo_name)\n",
        "        self.yolo.to(self.device)\n",
        "        self.yolo.classes = [0]\n",
        "        self.yolo_size = yolo_size\n",
        "        self.yolo_step = yolo_step\n",
        "        self.is_video = is_video\n",
        "        self.single_pose = single_pose\n",
        "        self.reset()\n",
        "\n",
        "        # State saving during inference\n",
        "        self.save_state = True  # Can be disabled manually\n",
        "        self._img = None\n",
        "        self._yolo_res = None\n",
        "        self._tracker_res = None\n",
        "        self._keypoints = None\n",
        "\n",
        "        # Use extension to decide which kind of model has been loaded\n",
        "        use_onnx = model.endswith('.onnx')\n",
        "        use_trt = model.endswith('.engine')\n",
        "\n",
        "        assert model_name in [None, 's', 'b', 'l', 'h'], \\\n",
        "            f'The model name {model_name} is not valid'\n",
        "\n",
        "        # onnx / trt models do not require model_cfg specification\n",
        "        if model_name is None:\n",
        "            assert use_onnx or use_trt, \\\n",
        "                'Specify the model_name if not using onnx / trt'\n",
        "        else:\n",
        "            if model_name == 's':\n",
        "                from configs.ViTPose_small_coco_256x192 import model as model_cfg\n",
        "            elif model_name == 'b':\n",
        "                from configs.ViTPose_base_coco_256x192 import model as model_cfg\n",
        "            elif model_name == 'l':\n",
        "                from configs.ViTPose_large_coco_256x192 import model as model_cfg\n",
        "            elif model_name == 'h':\n",
        "                from configs.ViTPose_huge_coco_256x192 import model as model_cfg\n",
        "\n",
        "        self.target_size = data_cfg['image_size']\n",
        "        if use_onnx:\n",
        "            self._ort_session = onnxruntime.InferenceSession(model,\n",
        "                                                             providers=['CUDAExecutionProvider',\n",
        "                                                                        'CPUExecutionProvider'])\n",
        "            inf_fn = self._inference_onnx\n",
        "        elif use_trt:\n",
        "            logger = trt.Logger(trt.Logger.ERROR)\n",
        "            trt_runtime = trt.Runtime(logger)\n",
        "            trt_engine = engine_utils.load_engine(trt_runtime, model)\n",
        "\n",
        "            # This allocates memory for network inputs/outputs on both CPU and GPU\n",
        "            self._inputs, self._outputs, self._bindings, self._stream = \\\n",
        "                engine_utils.allocate_buffers(trt_engine)\n",
        "            # Execution context is needed for inference\n",
        "            self._context = trt_engine.create_execution_context()\n",
        "            inf_fn = self._inference_trt\n",
        "        else:\n",
        "            self._vit_pose = ViTPose(model_cfg)\n",
        "            self._vit_pose.eval()\n",
        "\n",
        "            ckpt = torch.load(model, map_location='cpu')\n",
        "            if 'state_dict' in ckpt:\n",
        "                self._vit_pose.load_state_dict(ckpt['state_dict'])\n",
        "            else:\n",
        "                self._vit_pose.load_state_dict(ckpt)\n",
        "            self._vit_pose.to(device)\n",
        "            inf_fn = self._inference_torch\n",
        "\n",
        "        # Override inference with selected engine\n",
        "        self._inference = inf_fn\n",
        "\n",
        "    def reset(self):\n",
        "        \"\"\"\n",
        "        Reset the inference class to be ready for a new video.\n",
        "        This will reset the internal counter of frames, on videos\n",
        "        this is necessary to reset the tracker.\n",
        "        \"\"\"\n",
        "        min_hits = 3 if self.yolo_step == 1 else 1\n",
        "        use_tracker = self.is_video and not self.single_pose\n",
        "        self.tracker = Sort(max_age=self.yolo_step,\n",
        "                            min_hits=min_hits,\n",
        "                            iou_threshold=0.3) if use_tracker else None  # TODO: Params\n",
        "        self.frame_counter = 0\n",
        "\n",
        "    @classmethod\n",
        "    def postprocess(cls, heatmaps, org_w, org_h):\n",
        "        \"\"\"\n",
        "        Postprocess the heatmaps to obtain keypoints and their probabilities.\n",
        "\n",
        "        Args:\n",
        "            heatmaps (ndarray): Heatmap predictions from the model.\n",
        "            org_w (int): Original width of the image.\n",
        "            org_h (int): Original height of the image.\n",
        "\n",
        "        Returns:\n",
        "            ndarray: Processed keypoints with probabilities.\n",
        "        \"\"\"\n",
        "        points, prob = keypoints_from_heatmaps(heatmaps=heatmaps,\n",
        "                                               center=np.array([[org_w // 2,\n",
        "                                                                 org_h // 2]]),\n",
        "                                               scale=np.array([[org_w, org_h]]),\n",
        "                                               unbiased=True, use_udp=True)\n",
        "        return np.concatenate([points[:, :, ::-1], prob], axis=2)\n",
        "\n",
        "    @abc.abstractmethod\n",
        "    def _inference(img: np.ndarray) -> np.ndarray:\n",
        "        \"\"\"\n",
        "        Abstract method for performing inference on an image.\n",
        "        It is overloaded by each inference engine.\n",
        "\n",
        "        Args:\n",
        "            img (ndarray): Input image for inference.\n",
        "\n",
        "        Returns:\n",
        "            ndarray: Inference results.\n",
        "        \"\"\"\n",
        "        raise NotImplementedError\n",
        "\n",
        "    def inference(self, img: np.ndarray) -> np.ndarray:\n",
        "        \"\"\"\n",
        "        Perform inference on the input image.\n",
        "\n",
        "        Args:\n",
        "            img (ndarray): Input image for inference in RGB format.\n",
        "\n",
        "        Returns:\n",
        "            ndarray: Inference results.\n",
        "        \"\"\"\n",
        "\n",
        "        # First use YOLOv5 for detection\n",
        "        res_pd = np.empty((0, 5))\n",
        "        results = None\n",
        "        if (self.tracker is None or\n",
        "           (self.frame_counter % self.yolo_step == 0 or self.frame_counter < 3)):\n",
        "            results = self.yolo(img, size=self.yolo_size)\n",
        "            res_pd = np.array([r[:5].tolist() for r in  # TODO: Confidence threshold\n",
        "                               results.pandas().xyxy[0].to_numpy() if r[4] > 0.35]).reshape((-1, 5))\n",
        "        self.frame_counter += 1\n",
        "\n",
        "        frame_keypoints = {}\n",
        "        ids = None\n",
        "        if self.tracker is not None:\n",
        "            res_pd = self.tracker.update(res_pd)\n",
        "            ids = res_pd[:, 5].astype(int).tolist()\n",
        "\n",
        "        # Prepare boxes for inference\n",
        "        bboxes = res_pd[:, :4].round().astype(int)\n",
        "        scores = res_pd[:, 4].tolist()\n",
        "        pad_bbox = 10\n",
        "\n",
        "        if ids is None:\n",
        "            ids = range(len(bboxes))\n",
        "\n",
        "        for bbox, id in zip(bboxes, ids):\n",
        "            # TODO: Slightly bigger bbox\n",
        "            bbox[[0, 2]] = np.clip(bbox[[0, 2]] + [-pad_bbox, pad_bbox], 0, img.shape[1])\n",
        "            bbox[[1, 3]] = np.clip(bbox[[1, 3]] + [-pad_bbox, pad_bbox], 0, img.shape[0])\n",
        "\n",
        "            # Crop image and pad to 3/4 aspect ratio\n",
        "            img_inf = img[bbox[1]:bbox[3], bbox[0]:bbox[2]]\n",
        "            img_inf, (left_pad, top_pad) = pad_image(img_inf, 3 / 4)\n",
        "\n",
        "            keypoints = self._inference(img_inf)[0]\n",
        "            # Transform keypoints to original image\n",
        "            keypoints[:, :2] += bbox[:2][::-1] - [top_pad, left_pad]\n",
        "            frame_keypoints[id] = keypoints\n",
        "\n",
        "        if self.save_state:\n",
        "            self._img = img\n",
        "            self._yolo_res = results\n",
        "            self._tracker_res = (bboxes, ids, scores)\n",
        "            self._keypoints = frame_keypoints\n",
        "\n",
        "        return frame_keypoints\n",
        "\n",
        "    def draw(self, show_yolo=True, show_raw_yolo=False, confidence_threshold=0.5):\n",
        "        \"\"\"\n",
        "        Draw keypoints and bounding boxes on the image.\n",
        "\n",
        "        Args:\n",
        "            show_yolo (bool, optional): Whether to show YOLOv5 bounding boxes. Default is True.\n",
        "            show_raw_yolo (bool, optional): Whether to show raw YOLOv5 bounding boxes. Default is False.\n",
        "\n",
        "        Returns:\n",
        "            ndarray: Image with keypoints and bounding boxes drawn.\n",
        "        \"\"\"\n",
        "        img = self._img.copy()\n",
        "        bboxes, ids, scores = self._tracker_res\n",
        "\n",
        "        if self._yolo_res is not None and (show_raw_yolo or (self.tracker is None and show_yolo)):\n",
        "            img = np.array(self._yolo_res.render())[0]\n",
        "\n",
        "        if show_yolo and self.tracker is not None:\n",
        "            img = draw_bboxes(img, bboxes, ids, scores)\n",
        "\n",
        "        img = np.array(img)[..., ::-1]  # RGB to BGR for cv2 modules\n",
        "        for idx, k in self._keypoints.items():\n",
        "            img = draw_points_and_skeleton(img.copy(), k,\n",
        "                                           joints_dict()['coco']['skeleton'],\n",
        "                                           person_index=idx,\n",
        "                                           points_color_palette='gist_rainbow',\n",
        "                                           skeleton_color_palette='jet',\n",
        "                                           points_palette_samples=10,\n",
        "                                           confidence_threshold=confidence_threshold)\n",
        "        return img[..., ::-1], self._keypoints  # Return RGB as original\n",
        "\n",
        "    def pre_img(self, img):\n",
        "        org_h, org_w = img.shape[:2]\n",
        "        img_input = cv2.resize(img, self.target_size, interpolation=cv2.INTER_LINEAR) / 255\n",
        "        img_input = ((img_input - MEAN) / STD).transpose(2, 0, 1)[None].astype(np.float32)\n",
        "        return img_input, org_h, org_w\n",
        "\n",
        "    @torch.no_grad()\n",
        "    def _inference_torch(self, img: np.ndarray) -> np.ndarray:\n",
        "        # Prepare input data\n",
        "        img_input, org_h, org_w = self.pre_img(img)\n",
        "        img_input = torch.from_numpy(img_input).to(self.device)\n",
        "\n",
        "        # Feed to model\n",
        "        heatmaps = self._vit_pose(img_input).detach().cpu().numpy()\n",
        "        return self.postprocess(heatmaps, org_w, org_h)\n",
        "\n",
        "    def _inference_onnx(self, img: np.ndarray) -> np.ndarray:\n",
        "        # Prepare input data\n",
        "        img_input, org_h, org_w = self.pre_img(img)\n",
        "\n",
        "        # Feed to model\n",
        "        ort_inputs = {self._ort_session.get_inputs()[0].name: img_input}\n",
        "        heatmaps = self._ort_session.run(None, ort_inputs)[0]\n",
        "        return self.postprocess(heatmaps, org_w, org_h)\n",
        "\n",
        "    def _inference_trt(self, img: np.ndarray) -> np.ndarray:\n",
        "        # Prepare input data\n",
        "        img_input, org_h, org_w = self.pre_img(img)\n",
        "\n",
        "        # Copy the data to appropriate memory\n",
        "        np.copyto(self._inputs[0].host, img_input.ravel())\n",
        "        heatmaps = engine_utils.do_inference(context=self._context,\n",
        "                                             bindings=self._bindings,\n",
        "                                             inputs=self._inputs,\n",
        "                                             outputs=self._outputs,\n",
        "                                             stream=self._stream)[0]\n",
        "\n",
        "        # Reshape to output size\n",
        "        heatmaps = heatmaps.reshape(1, 25, img_input.shape[2] // 4, img_input.shape[3] // 4)\n",
        "        return self.postprocess(heatmaps, org_w, org_h)\n",
        "\n",
        "device = torch.device('cuda' if torch.cuda.is_available() else 'cpu')\n",
        "model = VitInference(model_path, yolo_path, MODEL_SIZE, yolo_size=320, is_video=False, device = device)"
      ],
      "metadata": {
        "id": "bDpUSMUUld2Z",
        "colab": {
          "base_uri": "https://localhost:8080/"
        },
        "outputId": "ffa23a67-d919-4b45-e559-b0843758d761"
      },
      "execution_count": null,
      "outputs": [
        {
          "output_type": "stream",
          "name": "stderr",
          "text": [
            "/usr/local/lib/python3.10/dist-packages/torch/hub.py:286: UserWarning: You are about to download and run code from an untrusted repository. In a future release, this won't be allowed. To add the repository to your trusted list, change the command to {calling_fn}(..., trust_repo=False) and a command prompt will appear asking for an explicit confirmation of trust, or load(..., trust_repo=True), which will assume that the prompt is to be answered with 'yes'. You can also use load(..., trust_repo='check') which will only prompt for confirmation if the repo is not already trusted. This will eventually be the default behaviour\n",
            "  warnings.warn(\n",
            "Downloading: \"https://github.com/ultralytics/yolov5/zipball/master\" to /root/.cache/torch/hub/master.zip\n",
            "YOLOv5 🚀 2023-8-25 Python-3.10.12 torch-2.0.1+cu118 CUDA:0 (Tesla T4, 15102MiB)\n",
            "\n",
            "Loading /root/.cache/huggingface/hub/models--JunkyByte--easy_ViTPose/snapshots/2e599f9067ef175c7e270bafca586d1cf8d3f9df/yolov5/yolov5n.onnx for ONNX Runtime inference...\n"
          ]
        },
        {
          "output_type": "stream",
          "name": "stdout",
          "text": [
            "[Errno 2] No such file or directory: '/usr/local/lib/python3.10/dist-packages/Pillow-9.4.0.dist-info/METADATA'\n"
          ]
        },
        {
          "output_type": "stream",
          "name": "stderr",
          "text": [
            "Adding AutoShape... \n"
          ]
        }
      ]
    },
    {
      "cell_type": "markdown",
      "source": [
        "# Todo\n",
        "## 0. 접근 방향\n",
        "- 먼저 VitPose로 각 이미지에 대한 keypoint를 추출한다.\n",
        "- 그 후 해당 keypoint들을 사용하여 어떤 동작인지 classification task를 진행한다.\n",
        "- 이를 위해 먼저 모든 이미지 데이터에 대해 keypoint를 추출한 후 해당 데이터들을 사용하여 classification 진행(1시간 가량 소요)\n",
        "\n",
        "## 1. ViTPose\n",
        "- model.inference시 ndarray 타입을 input으로 줘야해서 이때는 pytorch 데이터로더 사용 x\n",
        "- 총 3000여장 데이터, keypoint추출에 약 1시간여 소요\n",
        "- 추출한 keypoint와 label을 .npy(numpy) 파일로 저장하여 향후 classificiation에 집중할 수 있도록 시도\n",
        "\n",
        "## 2. Classification\n",
        "- 1. RandomForest : 25개 관절의 y,x 좌표를 가지는 정형 데이터로 취급하여 randomforest 모델 사용 (acc 0.5가량)\n",
        "- 2. Basic MLP : 간단한 MLP를 사용하여 딥러닝 시도(acc 0.01 가량)\n",
        "- 3. RNN? CNN?\n",
        "\n",
        "- normalization\n",
        "- 좌표 상대화\n"
      ],
      "metadata": {
        "id": "5zrBxKHNJFXT"
      }
    },
    {
      "cell_type": "markdown",
      "source": [
        "# Dataset\n",
        "- model.inference가 torch.tensor가 아닌 ndarray type을 input으로 받아야 해서 dataloader 사용 X"
      ],
      "metadata": {
        "id": "OqRCmqryf0Hl"
      }
    },
    {
      "cell_type": "code",
      "source": [
        "path =  '/content/gdrive/MyDrive/kubig_pose/원천데이터'"
      ],
      "metadata": {
        "id": "80gq6KkJGs4O"
      },
      "execution_count": null,
      "outputs": []
    },
    {
      "cell_type": "code",
      "source": [
        "import os\n",
        "from glob import glob"
      ],
      "metadata": {
        "id": "ZY_vN7hRHJOR"
      },
      "execution_count": null,
      "outputs": []
    },
    {
      "cell_type": "code",
      "source": [
        "folders = os.listdir(path)"
      ],
      "metadata": {
        "id": "pUon8mSkcU-V"
      },
      "execution_count": null,
      "outputs": []
    },
    {
      "cell_type": "code",
      "source": [
        "images = []\n",
        "for i in folders:\n",
        "  folder_name = i.split('(')[0].replace(' ', '')\n",
        "  for j in glob(path + f'/{i}/*'):\n",
        "    images.append([folder_name, j])\n",
        "images[:5]"
      ],
      "metadata": {
        "id": "HUxJUweIcrUf",
        "colab": {
          "base_uri": "https://localhost:8080/"
        },
        "outputId": "7470a580-361d-4f2e-a039-ab185f98179f"
      },
      "execution_count": null,
      "outputs": [
        {
          "output_type": "execute_result",
          "data": {
            "text/plain": [
              "[['앞서고안막기',\n",
              "  '/content/gdrive/MyDrive/kubig_pose/원천데이터/앞서고 안막기/B-005-A036-F-B2006-S-20211126-01-01-E01.jpg'],\n",
              " ['앞서고안막기',\n",
              "  '/content/gdrive/MyDrive/kubig_pose/원천데이터/앞서고 안막기/B-005-A036-F-B2006-S-20211126-01-07-E01.jpg'],\n",
              " ['앞서고안막기',\n",
              "  '/content/gdrive/MyDrive/kubig_pose/원천데이터/앞서고 안막기/B-005-A035-M-B2006-S-20211109-01-01-E01.jpg'],\n",
              " ['앞서고안막기',\n",
              "  '/content/gdrive/MyDrive/kubig_pose/원천데이터/앞서고 안막기/B-005-A035-M-B2006-S-20211109-01-07-E01.jpg'],\n",
              " ['앞서고안막기',\n",
              "  '/content/gdrive/MyDrive/kubig_pose/원천데이터/앞서고 안막기/B-005-A037-M-C1999-S-20211104-01-01-E01.jpg']]"
            ]
          },
          "metadata": {},
          "execution_count": 10
        }
      ]
    },
    {
      "cell_type": "code",
      "source": [
        "import pandas as pd\n",
        "data = pd.DataFrame(images)\n",
        "data.columns = ['label','path']"
      ],
      "metadata": {
        "id": "OpyCvr0jc559"
      },
      "execution_count": null,
      "outputs": []
    },
    {
      "cell_type": "code",
      "source": [
        "data.label.value_counts()"
      ],
      "metadata": {
        "id": "ZE7EXjyzdtV6",
        "colab": {
          "base_uri": "https://localhost:8080/"
        },
        "outputId": "e42c91c3-c57a-43f6-cc0a-bf4cb1ceaac3"
      },
      "execution_count": null,
      "outputs": [
        {
          "output_type": "execute_result",
          "data": {
            "text/plain": [
              "앞굽이하고지르기                      446\n",
              "앞서고지르기                           290\n",
              "앞굽이하고안막기                    162\n",
              "뒷굽이하고손날거들어바깥막기     101\n",
              "범서고바탕손안막기                  80\n",
              "뒷굽이하고바깥막기                   80\n",
              "앞굽이하고등주먹앞치기              80\n",
              "앞굽이하고아래막기                    80\n",
              "옆차기                                  74\n",
              "주춤서고손날옆막기                  64\n",
              "주춤서고팔꿈치표적치기               64\n",
              "옆서고메주먹내려치기                   61\n",
              "앞굽이하고헤쳐막기                    60\n",
              "앞서고손날안치기                     60\n",
              "앞서고아래막기                         60\n",
              "앞서고등주먹바깥치기                 60\n",
              "앞굽이하고팔꿈치거들어돌려치기     60\n",
              "앞굽이하고팔꿈치표적치기            60\n",
              "주춤서고옆지르기                       53\n",
              "두발당성차기                          44\n",
              "앞차기                                  42\n",
              "범서고바깥막기                        42\n",
              "돌려차기                                41\n",
              "앞굽이하고제비품안치기               40\n",
              "앞서고얼굴막기                       40\n",
              "범서고등주먹앞치기                   40\n",
              "범서고안막기                          40\n",
              "앞굽이하고가위막기                    40\n",
              "앞굽이하고엇걸어아래막기            40\n",
              "뒷굽이하고거들어바깥막기            40\n",
              "뒤꼬아서고등주먹앞차기                40\n",
              "뒤꼬아서고두주먹젖혀지르기             40\n",
              "기본준비                               40\n",
              "내려헤쳐막기                            40\n",
              "앞굽이하고거들어세워찌르기            40\n",
              "뒷굽이하고안막기                     40\n",
              "모아서고보주먹                          40\n",
              "뒷굽이하고손날바깥막기             40\n",
              "앞굽이하고당겨지르기                  40\n",
              "뒷굽이하고손날거들어아래막기       40\n",
              "앞굽이하고두번지르기                  40\n",
              "뒷굽이하고거들어아래막기             40\n",
              "앞굽이하고얼굴막기                  40\n",
              "앞굽이하고얼굴지르기                 40\n",
              "앞굽이하고외산틀막기                40\n",
              "앞서고안막기                          40\n",
              "앞굽이하고손날얼굴비틀어막기     34\n",
              "Name: label, dtype: int64"
            ]
          },
          "metadata": {},
          "execution_count": 12
        }
      ]
    },
    {
      "cell_type": "code",
      "source": [
        "len(data)"
      ],
      "metadata": {
        "id": "EN4LEOaX-gPe",
        "colab": {
          "base_uri": "https://localhost:8080/"
        },
        "outputId": "41b3c1f4-d691-43d6-dd67-7c9ddb0f3328"
      },
      "execution_count": null,
      "outputs": [
        {
          "output_type": "execute_result",
          "data": {
            "text/plain": [
              "3118"
            ]
          },
          "metadata": {},
          "execution_count": 13
        }
      ]
    },
    {
      "cell_type": "code",
      "source": [
        "label_dict = {i : idx for idx, i in enumerate(data.label.unique())}"
      ],
      "metadata": {
        "id": "Y-VMsHtNwAfw"
      },
      "execution_count": null,
      "outputs": []
    },
    {
      "cell_type": "code",
      "source": [
        "data['label'] = data['label'].map(label_dict)"
      ],
      "metadata": {
        "id": "Ski0fRXgwPwx"
      },
      "execution_count": null,
      "outputs": []
    },
    {
      "cell_type": "code",
      "source": [
        "# import torch\n",
        "# import cv2\n",
        "# import albumentations as A\n",
        "# from albumentations.pytorch import ToTensorV2\n",
        "\n",
        "# transform = A.Compose([\n",
        "#     A.HorizontalFlip(p=0.5),\n",
        "#     A.Normalize(mean=(0.485, 0.456, 0.406), std=(0.229, 0.224, 0.225)),\n",
        "#     # ToTensorV2(),\n",
        "# ])\n",
        "\n",
        "# class CustomImageDataset(torch.utils.data.Dataset):\n",
        "#     def __init__(self, label, dir, tf):\n",
        "#           self.img_labels = label\n",
        "#           self.img_dir = dir\n",
        "#           self.transform = tf\n",
        "\n",
        "#     def __len__(self):\n",
        "#         return len(self.img_labels)\n",
        "\n",
        "#     def __getitem__(self, idx):\n",
        "#         image = cv2.cvtColor(cv2.imread(self.img_dir.iloc[idx]), cv2.COLOR_BGR2RGB)\n",
        "#         label = self.img_labels.iloc[idx]\n",
        "#         transformed = self.transform(image=image)\n",
        "#         image = transformed['image']\n",
        "#         return image, label"
      ],
      "metadata": {
        "id": "P3RPdtkIeUR1"
      },
      "execution_count": null,
      "outputs": []
    },
    {
      "cell_type": "code",
      "source": [
        "# TaekwonDataset = CustomImageDataset(data['label'], data['path'], transform)"
      ],
      "metadata": {
        "id": "Tohu-ecrfKpt"
      },
      "execution_count": null,
      "outputs": []
    },
    {
      "cell_type": "code",
      "source": [
        "# TaekwonDataloader = torch.utils.data.DataLoader(TaekwonDataset, shuffle=True)"
      ],
      "metadata": {
        "id": "UL0CH7_8tHHY"
      },
      "execution_count": null,
      "outputs": []
    },
    {
      "cell_type": "markdown",
      "source": [
        "# From TaekwonDataset infer keypoint"
      ],
      "metadata": {
        "id": "fMYEWl13gfrt"
      }
    },
    {
      "cell_type": "code",
      "source": [
        "from tqdm.auto import tqdm\n",
        "keypoints = []\n",
        "labels = []\n",
        "\n",
        "for i in tqdm(zip(data['label'], data['path'])):\n",
        "  label = i[0]\n",
        "  keypoint = model.inference(cv2.cvtColor(cv2.imread(i[1]), cv2.COLOR_BGR2RGB))\n",
        "  keypoints.append(keypoint)\n",
        "  labels.append(label)"
      ],
      "metadata": {
        "id": "BtWVRc4J8j4n",
        "colab": {
          "base_uri": "https://localhost:8080/",
          "height": 49,
          "referenced_widgets": [
            "a02f1917c7a1403aa02f5b217f5dd0a1",
            "c5eb8e126d1247b0ae910c56bd457af0",
            "64513a38e086404baf348f0bb03e09dd",
            "0ac9c69afa024052bf0312021f7c7adf",
            "cac386106d4743c6adb67a74fa6d7ab6",
            "0c6ec35fca3240cd9e91ed37a1eb9542",
            "9cdb65a6c3ba43d581630927dbb13bf5",
            "59f617c2601c449ebb3c710c24e358d3",
            "4e0457aed81f43e6b595feb36eedae92",
            "714cc0ed2e9b428ab5222dbcb1ade91a",
            "f0daa40f13e34302821b478a12eaa4d8"
          ]
        },
        "outputId": "f7e89d76-1d4b-4255-c757-2ebb0d2f2aca"
      },
      "execution_count": null,
      "outputs": [
        {
          "output_type": "display_data",
          "data": {
            "text/plain": [
              "0it [00:00, ?it/s]"
            ],
            "application/vnd.jupyter.widget-view+json": {
              "version_major": 2,
              "version_minor": 0,
              "model_id": "a02f1917c7a1403aa02f5b217f5dd0a1"
            }
          },
          "metadata": {}
        }
      ]
    },
    {
      "cell_type": "code",
      "source": [
        "np.save('/content/gdrive/MyDrive/kubig_pose/keypoints', np.array(keypoints))"
      ],
      "metadata": {
        "id": "VTHBjOxN_rUl"
      },
      "execution_count": null,
      "outputs": []
    },
    {
      "cell_type": "code",
      "source": [
        "np.save('/content/gdrive/MyDrive/kubig_pose/labels', np.array(labels))"
      ],
      "metadata": {
        "id": "-M5gLemr_7I6"
      },
      "execution_count": null,
      "outputs": []
    },
    {
      "cell_type": "markdown",
      "source": [
        "# From keypoint to classification"
      ],
      "metadata": {
        "id": "cz6hEc_XgaBt"
      }
    },
    {
      "cell_type": "markdown",
      "source": [
        "# 1. RandomForest(ML) -> with tabular data"
      ],
      "metadata": {
        "id": "YUq_XuRopHJP"
      }
    },
    {
      "cell_type": "code",
      "source": [
        "def keypoint_flatten(keypoints, label):\n",
        "  columns = []\n",
        "\n",
        "  for i in range(25):\n",
        "    columns.extend([f'y{i}', f'x{i}'])\n",
        "  columns.append('label')\n",
        "  ml_data = pd.DataFrame(columns = columns)\n",
        "\n",
        "\n",
        "  for idx, keypoint in enumerate(keypoints):\n",
        "    flattend_data = []\n",
        "\n",
        "    try :\n",
        "      for i in keypoint[0]:\n",
        "        flattend_data.append(i[0])\n",
        "        flattend_data.append(i[1])\n",
        "      flattend_data.append(label[idx])\n",
        "      ml_data.loc[idx] = flattend_data\n",
        "    except :\n",
        "      pass\n",
        "  return ml_data"
      ],
      "metadata": {
        "id": "-ZkHRl5DqgUc"
      },
      "execution_count": null,
      "outputs": []
    },
    {
      "cell_type": "code",
      "source": [
        "df = keypoint_flatten(keypoints, labels)\n",
        "x = df.drop(columns = 'label')\n",
        "y = df['label']"
      ],
      "metadata": {
        "id": "Gu3LKbiUrlXP"
      },
      "execution_count": null,
      "outputs": []
    },
    {
      "cell_type": "code",
      "source": [
        "df[:5]"
      ],
      "metadata": {
        "id": "s74l_1i2sq4V",
        "colab": {
          "base_uri": "https://localhost:8080/",
          "height": 235
        },
        "outputId": "c7337481-8f07-4326-b564-49ac68882ac3"
      },
      "execution_count": null,
      "outputs": [
        {
          "output_type": "execute_result",
          "data": {
            "text/plain": [
              "           y0          x0          y1          x1          y2  ...  \\\n",
              "0  205.177368  966.683228  194.080811  979.200867  193.277130  ...   \n",
              "1  211.253021  567.365601  205.044968  570.523926  204.725693  ...   \n",
              "2  149.869995  943.557556  140.361084  953.411743  140.619995  ...   \n",
              "3  179.628754  718.676331  173.180954  724.367920  172.443756  ...   \n",
              "4  100.417236  921.562256   92.367981  929.884583   92.681030  ...   \n",
              "\n",
              "          y23         x23         y24         x24  label  \n",
              "0  619.279541  932.659607  601.986206  948.716980    0.0  \n",
              "1  506.744324  644.375732  505.097046  678.189026    0.0  \n",
              "2  520.015259  914.174866  504.355469  924.018311    0.0  \n",
              "3  491.723633  779.317139  493.803284  818.889893    0.0  \n",
              "4  427.179443  890.333801  413.665283  904.144775    0.0  \n",
              "\n",
              "[5 rows x 51 columns]"
            ],
            "text/html": [
              "\n",
              "  <div id=\"df-0ea6be5a-46d9-4f78-8f68-1e004998b4c0\" class=\"colab-df-container\">\n",
              "    <div>\n",
              "<style scoped>\n",
              "    .dataframe tbody tr th:only-of-type {\n",
              "        vertical-align: middle;\n",
              "    }\n",
              "\n",
              "    .dataframe tbody tr th {\n",
              "        vertical-align: top;\n",
              "    }\n",
              "\n",
              "    .dataframe thead th {\n",
              "        text-align: right;\n",
              "    }\n",
              "</style>\n",
              "<table border=\"1\" class=\"dataframe\">\n",
              "  <thead>\n",
              "    <tr style=\"text-align: right;\">\n",
              "      <th></th>\n",
              "      <th>y0</th>\n",
              "      <th>x0</th>\n",
              "      <th>y1</th>\n",
              "      <th>x1</th>\n",
              "      <th>y2</th>\n",
              "      <th>...</th>\n",
              "      <th>y23</th>\n",
              "      <th>x23</th>\n",
              "      <th>y24</th>\n",
              "      <th>x24</th>\n",
              "      <th>label</th>\n",
              "    </tr>\n",
              "  </thead>\n",
              "  <tbody>\n",
              "    <tr>\n",
              "      <th>0</th>\n",
              "      <td>205.177368</td>\n",
              "      <td>966.683228</td>\n",
              "      <td>194.080811</td>\n",
              "      <td>979.200867</td>\n",
              "      <td>193.277130</td>\n",
              "      <td>...</td>\n",
              "      <td>619.279541</td>\n",
              "      <td>932.659607</td>\n",
              "      <td>601.986206</td>\n",
              "      <td>948.716980</td>\n",
              "      <td>0.0</td>\n",
              "    </tr>\n",
              "    <tr>\n",
              "      <th>1</th>\n",
              "      <td>211.253021</td>\n",
              "      <td>567.365601</td>\n",
              "      <td>205.044968</td>\n",
              "      <td>570.523926</td>\n",
              "      <td>204.725693</td>\n",
              "      <td>...</td>\n",
              "      <td>506.744324</td>\n",
              "      <td>644.375732</td>\n",
              "      <td>505.097046</td>\n",
              "      <td>678.189026</td>\n",
              "      <td>0.0</td>\n",
              "    </tr>\n",
              "    <tr>\n",
              "      <th>2</th>\n",
              "      <td>149.869995</td>\n",
              "      <td>943.557556</td>\n",
              "      <td>140.361084</td>\n",
              "      <td>953.411743</td>\n",
              "      <td>140.619995</td>\n",
              "      <td>...</td>\n",
              "      <td>520.015259</td>\n",
              "      <td>914.174866</td>\n",
              "      <td>504.355469</td>\n",
              "      <td>924.018311</td>\n",
              "      <td>0.0</td>\n",
              "    </tr>\n",
              "    <tr>\n",
              "      <th>3</th>\n",
              "      <td>179.628754</td>\n",
              "      <td>718.676331</td>\n",
              "      <td>173.180954</td>\n",
              "      <td>724.367920</td>\n",
              "      <td>172.443756</td>\n",
              "      <td>...</td>\n",
              "      <td>491.723633</td>\n",
              "      <td>779.317139</td>\n",
              "      <td>493.803284</td>\n",
              "      <td>818.889893</td>\n",
              "      <td>0.0</td>\n",
              "    </tr>\n",
              "    <tr>\n",
              "      <th>4</th>\n",
              "      <td>100.417236</td>\n",
              "      <td>921.562256</td>\n",
              "      <td>92.367981</td>\n",
              "      <td>929.884583</td>\n",
              "      <td>92.681030</td>\n",
              "      <td>...</td>\n",
              "      <td>427.179443</td>\n",
              "      <td>890.333801</td>\n",
              "      <td>413.665283</td>\n",
              "      <td>904.144775</td>\n",
              "      <td>0.0</td>\n",
              "    </tr>\n",
              "  </tbody>\n",
              "</table>\n",
              "<p>5 rows × 51 columns</p>\n",
              "</div>\n",
              "    <div class=\"colab-df-buttons\">\n",
              "\n",
              "  <div class=\"colab-df-container\">\n",
              "    <button class=\"colab-df-convert\" onclick=\"convertToInteractive('df-0ea6be5a-46d9-4f78-8f68-1e004998b4c0')\"\n",
              "            title=\"Convert this dataframe to an interactive table.\"\n",
              "            style=\"display:none;\">\n",
              "\n",
              "  <svg xmlns=\"http://www.w3.org/2000/svg\" height=\"24px\" viewBox=\"0 -960 960 960\">\n",
              "    <path d=\"M120-120v-720h720v720H120Zm60-500h600v-160H180v160Zm220 220h160v-160H400v160Zm0 220h160v-160H400v160ZM180-400h160v-160H180v160Zm440 0h160v-160H620v160ZM180-180h160v-160H180v160Zm440 0h160v-160H620v160Z\"/>\n",
              "  </svg>\n",
              "    </button>\n",
              "\n",
              "  <style>\n",
              "    .colab-df-container {\n",
              "      display:flex;\n",
              "      gap: 12px;\n",
              "    }\n",
              "\n",
              "    .colab-df-convert {\n",
              "      background-color: #E8F0FE;\n",
              "      border: none;\n",
              "      border-radius: 50%;\n",
              "      cursor: pointer;\n",
              "      display: none;\n",
              "      fill: #1967D2;\n",
              "      height: 32px;\n",
              "      padding: 0 0 0 0;\n",
              "      width: 32px;\n",
              "    }\n",
              "\n",
              "    .colab-df-convert:hover {\n",
              "      background-color: #E2EBFA;\n",
              "      box-shadow: 0px 1px 2px rgba(60, 64, 67, 0.3), 0px 1px 3px 1px rgba(60, 64, 67, 0.15);\n",
              "      fill: #174EA6;\n",
              "    }\n",
              "\n",
              "    .colab-df-buttons div {\n",
              "      margin-bottom: 4px;\n",
              "    }\n",
              "\n",
              "    [theme=dark] .colab-df-convert {\n",
              "      background-color: #3B4455;\n",
              "      fill: #D2E3FC;\n",
              "    }\n",
              "\n",
              "    [theme=dark] .colab-df-convert:hover {\n",
              "      background-color: #434B5C;\n",
              "      box-shadow: 0px 1px 3px 1px rgba(0, 0, 0, 0.15);\n",
              "      filter: drop-shadow(0px 1px 2px rgba(0, 0, 0, 0.3));\n",
              "      fill: #FFFFFF;\n",
              "    }\n",
              "  </style>\n",
              "\n",
              "    <script>\n",
              "      const buttonEl =\n",
              "        document.querySelector('#df-0ea6be5a-46d9-4f78-8f68-1e004998b4c0 button.colab-df-convert');\n",
              "      buttonEl.style.display =\n",
              "        google.colab.kernel.accessAllowed ? 'block' : 'none';\n",
              "\n",
              "      async function convertToInteractive(key) {\n",
              "        const element = document.querySelector('#df-0ea6be5a-46d9-4f78-8f68-1e004998b4c0');\n",
              "        const dataTable =\n",
              "          await google.colab.kernel.invokeFunction('convertToInteractive',\n",
              "                                                    [key], {});\n",
              "        if (!dataTable) return;\n",
              "\n",
              "        const docLinkHtml = 'Like what you see? Visit the ' +\n",
              "          '<a target=\"_blank\" href=https://colab.research.google.com/notebooks/data_table.ipynb>data table notebook</a>'\n",
              "          + ' to learn more about interactive tables.';\n",
              "        element.innerHTML = '';\n",
              "        dataTable['output_type'] = 'display_data';\n",
              "        await google.colab.output.renderOutput(dataTable, element);\n",
              "        const docLink = document.createElement('div');\n",
              "        docLink.innerHTML = docLinkHtml;\n",
              "        element.appendChild(docLink);\n",
              "      }\n",
              "    </script>\n",
              "  </div>\n",
              "\n",
              "\n",
              "<div id=\"df-065b43b0-f8fe-4afc-868b-8b655236ef2a\">\n",
              "  <button class=\"colab-df-quickchart\" onclick=\"quickchart('df-065b43b0-f8fe-4afc-868b-8b655236ef2a')\"\n",
              "            title=\"Suggest charts.\"\n",
              "            style=\"display:none;\">\n",
              "\n",
              "<svg xmlns=\"http://www.w3.org/2000/svg\" height=\"24px\"viewBox=\"0 0 24 24\"\n",
              "     width=\"24px\">\n",
              "    <g>\n",
              "        <path d=\"M19 3H5c-1.1 0-2 .9-2 2v14c0 1.1.9 2 2 2h14c1.1 0 2-.9 2-2V5c0-1.1-.9-2-2-2zM9 17H7v-7h2v7zm4 0h-2V7h2v10zm4 0h-2v-4h2v4z\"/>\n",
              "    </g>\n",
              "</svg>\n",
              "  </button>\n",
              "\n",
              "<style>\n",
              "  .colab-df-quickchart {\n",
              "    background-color: #E8F0FE;\n",
              "    border: none;\n",
              "    border-radius: 50%;\n",
              "    cursor: pointer;\n",
              "    display: none;\n",
              "    fill: #1967D2;\n",
              "    height: 32px;\n",
              "    padding: 0 0 0 0;\n",
              "    width: 32px;\n",
              "  }\n",
              "\n",
              "  .colab-df-quickchart:hover {\n",
              "    background-color: #E2EBFA;\n",
              "    box-shadow: 0px 1px 2px rgba(60, 64, 67, 0.3), 0px 1px 3px 1px rgba(60, 64, 67, 0.15);\n",
              "    fill: #174EA6;\n",
              "  }\n",
              "\n",
              "  [theme=dark] .colab-df-quickchart {\n",
              "    background-color: #3B4455;\n",
              "    fill: #D2E3FC;\n",
              "  }\n",
              "\n",
              "  [theme=dark] .colab-df-quickchart:hover {\n",
              "    background-color: #434B5C;\n",
              "    box-shadow: 0px 1px 3px 1px rgba(0, 0, 0, 0.15);\n",
              "    filter: drop-shadow(0px 1px 2px rgba(0, 0, 0, 0.3));\n",
              "    fill: #FFFFFF;\n",
              "  }\n",
              "</style>\n",
              "\n",
              "  <script>\n",
              "    async function quickchart(key) {\n",
              "      const charts = await google.colab.kernel.invokeFunction(\n",
              "          'suggestCharts', [key], {});\n",
              "    }\n",
              "    (() => {\n",
              "      let quickchartButtonEl =\n",
              "        document.querySelector('#df-065b43b0-f8fe-4afc-868b-8b655236ef2a button');\n",
              "      quickchartButtonEl.style.display =\n",
              "        google.colab.kernel.accessAllowed ? 'block' : 'none';\n",
              "    })();\n",
              "  </script>\n",
              "</div>\n",
              "    </div>\n",
              "  </div>\n"
            ]
          },
          "metadata": {},
          "execution_count": 24
        }
      ]
    },
    {
      "cell_type": "code",
      "source": [
        "from sklearn.model_selection import train_test_split\n",
        "train_x, valid_x, train_y, valid_y = train_test_split(x, y, stratify = y, test_size = 0.15, random_state = 42)"
      ],
      "metadata": {
        "id": "5brstC-eu83n"
      },
      "execution_count": null,
      "outputs": []
    },
    {
      "cell_type": "code",
      "source": [
        "from sklearn.ensemble import RandomForestClassifier\n",
        "model = RandomForestClassifier()"
      ],
      "metadata": {
        "id": "H4KUcl0SkMI3"
      },
      "execution_count": null,
      "outputs": []
    },
    {
      "cell_type": "code",
      "source": [
        "model.fit(train_x, train_y)"
      ],
      "metadata": {
        "id": "UG6pF0LgliDV",
        "colab": {
          "base_uri": "https://localhost:8080/",
          "height": 74
        },
        "outputId": "3c3e18d6-b186-4a65-9624-f80e7f71fcd2"
      },
      "execution_count": null,
      "outputs": [
        {
          "output_type": "execute_result",
          "data": {
            "text/plain": [
              "RandomForestClassifier()"
            ],
            "text/html": [
              "<style>#sk-container-id-1 {color: black;background-color: white;}#sk-container-id-1 pre{padding: 0;}#sk-container-id-1 div.sk-toggleable {background-color: white;}#sk-container-id-1 label.sk-toggleable__label {cursor: pointer;display: block;width: 100%;margin-bottom: 0;padding: 0.3em;box-sizing: border-box;text-align: center;}#sk-container-id-1 label.sk-toggleable__label-arrow:before {content: \"▸\";float: left;margin-right: 0.25em;color: #696969;}#sk-container-id-1 label.sk-toggleable__label-arrow:hover:before {color: black;}#sk-container-id-1 div.sk-estimator:hover label.sk-toggleable__label-arrow:before {color: black;}#sk-container-id-1 div.sk-toggleable__content {max-height: 0;max-width: 0;overflow: hidden;text-align: left;background-color: #f0f8ff;}#sk-container-id-1 div.sk-toggleable__content pre {margin: 0.2em;color: black;border-radius: 0.25em;background-color: #f0f8ff;}#sk-container-id-1 input.sk-toggleable__control:checked~div.sk-toggleable__content {max-height: 200px;max-width: 100%;overflow: auto;}#sk-container-id-1 input.sk-toggleable__control:checked~label.sk-toggleable__label-arrow:before {content: \"▾\";}#sk-container-id-1 div.sk-estimator input.sk-toggleable__control:checked~label.sk-toggleable__label {background-color: #d4ebff;}#sk-container-id-1 div.sk-label input.sk-toggleable__control:checked~label.sk-toggleable__label {background-color: #d4ebff;}#sk-container-id-1 input.sk-hidden--visually {border: 0;clip: rect(1px 1px 1px 1px);clip: rect(1px, 1px, 1px, 1px);height: 1px;margin: -1px;overflow: hidden;padding: 0;position: absolute;width: 1px;}#sk-container-id-1 div.sk-estimator {font-family: monospace;background-color: #f0f8ff;border: 1px dotted black;border-radius: 0.25em;box-sizing: border-box;margin-bottom: 0.5em;}#sk-container-id-1 div.sk-estimator:hover {background-color: #d4ebff;}#sk-container-id-1 div.sk-parallel-item::after {content: \"\";width: 100%;border-bottom: 1px solid gray;flex-grow: 1;}#sk-container-id-1 div.sk-label:hover label.sk-toggleable__label {background-color: #d4ebff;}#sk-container-id-1 div.sk-serial::before {content: \"\";position: absolute;border-left: 1px solid gray;box-sizing: border-box;top: 0;bottom: 0;left: 50%;z-index: 0;}#sk-container-id-1 div.sk-serial {display: flex;flex-direction: column;align-items: center;background-color: white;padding-right: 0.2em;padding-left: 0.2em;position: relative;}#sk-container-id-1 div.sk-item {position: relative;z-index: 1;}#sk-container-id-1 div.sk-parallel {display: flex;align-items: stretch;justify-content: center;background-color: white;position: relative;}#sk-container-id-1 div.sk-item::before, #sk-container-id-1 div.sk-parallel-item::before {content: \"\";position: absolute;border-left: 1px solid gray;box-sizing: border-box;top: 0;bottom: 0;left: 50%;z-index: -1;}#sk-container-id-1 div.sk-parallel-item {display: flex;flex-direction: column;z-index: 1;position: relative;background-color: white;}#sk-container-id-1 div.sk-parallel-item:first-child::after {align-self: flex-end;width: 50%;}#sk-container-id-1 div.sk-parallel-item:last-child::after {align-self: flex-start;width: 50%;}#sk-container-id-1 div.sk-parallel-item:only-child::after {width: 0;}#sk-container-id-1 div.sk-dashed-wrapped {border: 1px dashed gray;margin: 0 0.4em 0.5em 0.4em;box-sizing: border-box;padding-bottom: 0.4em;background-color: white;}#sk-container-id-1 div.sk-label label {font-family: monospace;font-weight: bold;display: inline-block;line-height: 1.2em;}#sk-container-id-1 div.sk-label-container {text-align: center;}#sk-container-id-1 div.sk-container {/* jupyter's `normalize.less` sets `[hidden] { display: none; }` but bootstrap.min.css set `[hidden] { display: none !important; }` so we also need the `!important` here to be able to override the default hidden behavior on the sphinx rendered scikit-learn.org. See: https://github.com/scikit-learn/scikit-learn/issues/21755 */display: inline-block !important;position: relative;}#sk-container-id-1 div.sk-text-repr-fallback {display: none;}</style><div id=\"sk-container-id-1\" class=\"sk-top-container\"><div class=\"sk-text-repr-fallback\"><pre>RandomForestClassifier()</pre><b>In a Jupyter environment, please rerun this cell to show the HTML representation or trust the notebook. <br />On GitHub, the HTML representation is unable to render, please try loading this page with nbviewer.org.</b></div><div class=\"sk-container\" hidden><div class=\"sk-item\"><div class=\"sk-estimator sk-toggleable\"><input class=\"sk-toggleable__control sk-hidden--visually\" id=\"sk-estimator-id-1\" type=\"checkbox\" checked><label for=\"sk-estimator-id-1\" class=\"sk-toggleable__label sk-toggleable__label-arrow\">RandomForestClassifier</label><div class=\"sk-toggleable__content\"><pre>RandomForestClassifier()</pre></div></div></div></div></div>"
            ]
          },
          "metadata": {},
          "execution_count": 27
        }
      ]
    },
    {
      "cell_type": "code",
      "source": [
        "model.score(valid_x, valid_y)"
      ],
      "metadata": {
        "id": "CNfq6TIRvNee",
        "colab": {
          "base_uri": "https://localhost:8080/"
        },
        "outputId": "ed11a0b2-6faa-423f-a8c3-e33415a08a9e"
      },
      "execution_count": null,
      "outputs": [
        {
          "output_type": "execute_result",
          "data": {
            "text/plain": [
              "0.6173913043478261"
            ]
          },
          "metadata": {},
          "execution_count": 28
        }
      ]
    },
    {
      "cell_type": "markdown",
      "source": [
        "# 2. Basic MLP"
      ],
      "metadata": {
        "id": "0KU0CB_guqbw"
      }
    },
    {
      "cell_type": "code",
      "source": [
        "from torch import nn\n",
        "import torch.nn.functional as F\n",
        "\n",
        "class basic_mlp(nn.Module):\n",
        "  def __init__(self):\n",
        "    super().__init__()\n",
        "    self.fc1 = nn.Linear(50, 64)\n",
        "    self.fc2 = nn.Linear(64,128)\n",
        "    self.fc3 = nn.Linear(128, 47)\n",
        "    self.dropout = nn.Dropout(p = 0.3)\n",
        "\n",
        "  def forward(self, x):\n",
        "    x = self.fc1(x)\n",
        "    x = F.relu(x)\n",
        "    x = self.fc2(x)\n",
        "    x = F.relu(x)\n",
        "    x = self.dropout(x)\n",
        "    x = self.fc3(x)\n",
        "    x = F.softmax(x)\n",
        "    return x"
      ],
      "metadata": {
        "id": "CSMxkhbburdj"
      },
      "execution_count": null,
      "outputs": []
    },
    {
      "cell_type": "code",
      "source": [
        "def from_keypoint_to_input(keypoint):\n",
        "  input_data = []\n",
        "  for i in keypoint:\n",
        "    input_data.append(i[:-1])\n",
        "  return np.array(input_data)\n",
        "\n",
        "def keypoint_mlp(keypoints, labels):\n",
        "  flattend_data = []\n",
        "  label = []\n",
        "  for idx, keypoint in enumerate(keypoints):\n",
        "    try :\n",
        "        flattend_data.append(torch.tensor(from_keypoint_to_input(keypoint[0]).flatten()))\n",
        "        label.append(labels[idx])\n",
        "    except :\n",
        "      pass\n",
        "  return flattend_data, label"
      ],
      "metadata": {
        "id": "7LZVqC4pxYEj"
      },
      "execution_count": null,
      "outputs": []
    },
    {
      "cell_type": "code",
      "source": [
        "x, y = keypoint_mlp(keypoints, labels)"
      ],
      "metadata": {
        "id": "2bDRS6-m4NF_"
      },
      "execution_count": null,
      "outputs": []
    },
    {
      "cell_type": "code",
      "source": [
        "from sklearn.model_selection import train_test_split\n",
        "train_x, valid_x, train_y, valid_y = train_test_split(x, y, stratify = y, test_size = 0.15, random_state = 42)"
      ],
      "metadata": {
        "id": "oU9S68v9_c4G"
      },
      "execution_count": null,
      "outputs": []
    },
    {
      "cell_type": "code",
      "source": [
        "model = basic_mlp()\n",
        "model.to(device)"
      ],
      "metadata": {
        "id": "IA8SpzQyR2Xs",
        "colab": {
          "base_uri": "https://localhost:8080/"
        },
        "outputId": "f8956a95-d848-4ebf-b812-f214415962d6"
      },
      "execution_count": null,
      "outputs": [
        {
          "output_type": "execute_result",
          "data": {
            "text/plain": [
              "basic_mlp(\n",
              "  (fc1): Linear(in_features=50, out_features=64, bias=True)\n",
              "  (fc2): Linear(in_features=64, out_features=128, bias=True)\n",
              "  (fc3): Linear(in_features=128, out_features=47, bias=True)\n",
              "  (dropout): Dropout(p=0.3, inplace=False)\n",
              ")"
            ]
          },
          "metadata": {},
          "execution_count": 33
        }
      ]
    },
    {
      "cell_type": "code",
      "source": [
        "criterion = nn.CrossEntropyLoss()\n",
        "optimizer = torch.optim.Adam(model.parameters(), lr=0.001, weight_decay=1e-7)"
      ],
      "metadata": {
        "id": "Ylk69dD5Rv8y"
      },
      "execution_count": null,
      "outputs": []
    },
    {
      "cell_type": "code",
      "source": [
        "class CustomKeypointsDataset(torch.utils.data.Dataset):\n",
        "    def __init__(self, keypoints, labels):\n",
        "        self.keypoints = keypoints\n",
        "        self.labels = labels\n",
        "\n",
        "    def __len__(self):\n",
        "        return len(self.labels)\n",
        "\n",
        "    def __getitem__(self, idx):\n",
        "        keypoint = self.keypoints[idx]\n",
        "        label = self.labels[idx]\n",
        "        return keypoint, label"
      ],
      "metadata": {
        "id": "MTwPO4IATanA"
      },
      "execution_count": null,
      "outputs": []
    },
    {
      "cell_type": "code",
      "source": [
        "SkeletonTrainDataset = CustomKeypointsDataset(train_x, train_y)\n",
        "SkeletonValidDataset = CustomKeypointsDataset(valid_x, valid_y)"
      ],
      "metadata": {
        "id": "1-ad7R29ULe7"
      },
      "execution_count": null,
      "outputs": []
    },
    {
      "cell_type": "code",
      "source": [
        "TrainDataloader = torch.utils.data.DataLoader(SkeletonTrainDataset, batch_size = 128, shuffle = True)\n",
        "ValidDataloader = torch.utils.data.DataLoader(SkeletonValidDataset, batch_size = 128,shuffle = False)"
      ],
      "metadata": {
        "id": "y4mA5kKBUa0e"
      },
      "execution_count": null,
      "outputs": []
    },
    {
      "cell_type": "code",
      "source": [
        "for epoch in range(50):\n",
        "  train_loss = []\n",
        "  train_acc = []\n",
        "  valid_loss = []\n",
        "  valid_acc = []\n",
        "\n",
        "  for skeleton, cls in iter(TrainDataloader):\n",
        "    optimizer.zero_grad()\n",
        "\n",
        "    skeleton, cls = skeleton.to(device), cls.to(device)\n",
        "\n",
        "    output = model(skeleton)\n",
        "    loss = criterion(output, cls)\n",
        "    train_loss.append(loss.item())\n",
        "    train_acc.append(sum(torch.max(output, dim=1)[1] == cls) / skeleton.shape[0])\n",
        "    loss.backward()\n",
        "    optimizer.step()\n",
        "\n",
        "  with torch.no_grad():\n",
        "    for skeleton, cls in iter(ValidDataloader):\n",
        "      skeleton, cls = skeleton.to(device), cls.to(device)\n",
        "      output = model(skeleton)\n",
        "      loss = criterion(output, cls)\n",
        "      valid_loss.append(loss.item())\n",
        "      valid_acc.append(sum(torch.max(output, dim=1)[1] == cls) / skeleton.shape[0])\n",
        "\n",
        "  print(f'epoch {epoch+1} -- train_loss : {sum(train_loss[-len(TrainDataloader):]) / len(TrainDataloader)} \\\n",
        "  train_acc : {sum(train_acc[-len(TrainDataloader):]) / len(TrainDataloader)}\\\n",
        "   valid_loss : {sum(valid_loss[-len(ValidDataloader):]) / len(ValidDataloader)} \\\n",
        "  valid_acc : {sum(valid_acc[-len(ValidDataloader):]) / len(ValidDataloader)}')"
      ],
      "metadata": {
        "id": "KWOQvKls_eLA",
        "colab": {
          "base_uri": "https://localhost:8080/"
        },
        "outputId": "5c4cd244-e510-48d9-ab83-201e1045da20"
      },
      "execution_count": null,
      "outputs": [
        {
          "output_type": "stream",
          "name": "stdout",
          "text": [
            "epoch 1 -- train_loss : 3.8691863332475935   train_acc : 0.01666019670665264   valid_loss : 3.8684685230255127   valid_acc : 0.017578125\n",
            "epoch 2 -- train_loss : 3.867060740788778   train_acc : 0.01897321455180645   valid_loss : 3.8684741854667664   valid_acc : 0.017578125\n",
            "epoch 3 -- train_loss : 3.866414251781645   train_acc : 0.01963638700544834   valid_loss : 3.8664978742599487   valid_acc : 0.01953125\n",
            "epoch 4 -- train_loss : 3.8664140701293945   train_acc : 0.01963638700544834   valid_loss : 3.868476390838623   valid_acc : 0.017578125\n",
            "epoch 5 -- train_loss : 3.8670782361711775   train_acc : 0.01897321455180645   valid_loss : 3.8684768080711365   valid_acc : 0.017578125\n",
            "epoch 6 -- train_loss : 3.865269865308489   train_acc : 0.020962731912732124   valid_loss : 3.868476390838623   valid_acc : 0.017578125\n",
            "epoch 7 -- train_loss : 3.866418270837693   train_acc : 0.01963638700544834   valid_loss : 3.868476390838623   valid_acc : 0.017578125\n",
            "epoch 8 -- train_loss : 3.867081437792097   train_acc : 0.01897321455180645   valid_loss : 3.868476390838623   valid_acc : 0.017578125\n",
            "epoch 9 -- train_loss : 3.867081437792097   train_acc : 0.01897321455180645   valid_loss : 3.868476390838623   valid_acc : 0.017578125\n",
            "epoch 10 -- train_loss : 3.867081437792097   train_acc : 0.01897321455180645   valid_loss : 3.868476390838623   valid_acc : 0.017578125\n",
            "epoch 11 -- train_loss : 3.867081437792097   train_acc : 0.01897321455180645   valid_loss : 3.868476390838623   valid_acc : 0.017578125\n",
            "epoch 12 -- train_loss : 3.867081437792097   train_acc : 0.01897321455180645   valid_loss : 3.868476390838623   valid_acc : 0.017578125\n",
            "epoch 13 -- train_loss : 3.866418270837693   train_acc : 0.01963638700544834   valid_loss : 3.868476390838623   valid_acc : 0.017578125\n",
            "epoch 14 -- train_loss : 3.867081437792097   train_acc : 0.01897321455180645   valid_loss : 3.868476390838623   valid_acc : 0.017578125\n",
            "epoch 15 -- train_loss : 3.8657550925300237   train_acc : 0.020299559459090233   valid_loss : 3.868476390838623   valid_acc : 0.017578125\n",
            "epoch 16 -- train_loss : 3.8657550925300237   train_acc : 0.020299559459090233   valid_loss : 3.868476390838623   valid_acc : 0.017578125\n",
            "epoch 17 -- train_loss : 3.8650919255756198   train_acc : 0.020962731912732124   valid_loss : 3.868476390838623   valid_acc : 0.017578125\n",
            "epoch 18 -- train_loss : 3.867081437792097   train_acc : 0.01897321455180645   valid_loss : 3.868476390838623   valid_acc : 0.017578125\n",
            "epoch 19 -- train_loss : 3.8650919255756198   train_acc : 0.020962731912732124   valid_loss : 3.868476390838623   valid_acc : 0.017578125\n",
            "epoch 20 -- train_loss : 3.867081437792097   train_acc : 0.01897321455180645   valid_loss : 3.868476390838623   valid_acc : 0.017578125\n",
            "epoch 21 -- train_loss : 3.8657550925300237   train_acc : 0.020299559459090233   valid_loss : 3.868476390838623   valid_acc : 0.017578125\n",
            "epoch 22 -- train_loss : 3.8657550925300237   train_acc : 0.020299559459090233   valid_loss : 3.868476390838623   valid_acc : 0.017578125\n",
            "epoch 23 -- train_loss : 3.866418270837693   train_acc : 0.01963638700544834   valid_loss : 3.868476390838623   valid_acc : 0.017578125\n",
            "epoch 24 -- train_loss : 3.866418270837693   train_acc : 0.01963638700544834   valid_loss : 3.868476390838623   valid_acc : 0.017578125\n",
            "epoch 25 -- train_loss : 3.867081437792097   train_acc : 0.01897321455180645   valid_loss : 3.868476390838623   valid_acc : 0.017578125\n",
            "epoch 26 -- train_loss : 3.867081437792097   train_acc : 0.01897321455180645   valid_loss : 3.868476390838623   valid_acc : 0.017578125\n",
            "epoch 27 -- train_loss : 3.866418270837693   train_acc : 0.01963638700544834   valid_loss : 3.868476390838623   valid_acc : 0.017578125\n",
            "epoch 28 -- train_loss : 3.867081437792097   train_acc : 0.01897321455180645   valid_loss : 3.868476390838623   valid_acc : 0.017578125\n",
            "epoch 29 -- train_loss : 3.866418270837693   train_acc : 0.01963638700544834   valid_loss : 3.868476390838623   valid_acc : 0.017578125\n",
            "epoch 30 -- train_loss : 3.867081437792097   train_acc : 0.01897321455180645   valid_loss : 3.868476390838623   valid_acc : 0.017578125\n",
            "epoch 31 -- train_loss : 3.866418270837693   train_acc : 0.01963638700544834   valid_loss : 3.868476390838623   valid_acc : 0.017578125\n",
            "epoch 32 -- train_loss : 3.8657550925300237   train_acc : 0.020299559459090233   valid_loss : 3.868476390838623   valid_acc : 0.017578125\n",
            "epoch 33 -- train_loss : 3.866418270837693   train_acc : 0.01963638700544834   valid_loss : 3.868476390838623   valid_acc : 0.017578125\n",
            "epoch 34 -- train_loss : 3.867081437792097   train_acc : 0.01897321455180645   valid_loss : 3.868476390838623   valid_acc : 0.017578125\n",
            "epoch 35 -- train_loss : 3.8657550925300237   train_acc : 0.020299559459090233   valid_loss : 3.868476390838623   valid_acc : 0.017578125\n",
            "epoch 36 -- train_loss : 3.8657550925300237   train_acc : 0.020299559459090233   valid_loss : 3.868476390838623   valid_acc : 0.017578125\n",
            "epoch 37 -- train_loss : 3.866418270837693   train_acc : 0.01963638700544834   valid_loss : 3.868476390838623   valid_acc : 0.017578125\n",
            "epoch 38 -- train_loss : 3.8657550925300237   train_acc : 0.020299559459090233   valid_loss : 3.868476390838623   valid_acc : 0.017578125\n",
            "epoch 39 -- train_loss : 3.867081437792097   train_acc : 0.01897321455180645   valid_loss : 3.868476390838623   valid_acc : 0.017578125\n",
            "epoch 40 -- train_loss : 3.866418270837693   train_acc : 0.01963638700544834   valid_loss : 3.868476390838623   valid_acc : 0.017578125\n",
            "epoch 41 -- train_loss : 3.8657550925300237   train_acc : 0.020299559459090233   valid_loss : 3.868476390838623   valid_acc : 0.017578125\n",
            "epoch 42 -- train_loss : 3.867081437792097   train_acc : 0.01897321455180645   valid_loss : 3.868476390838623   valid_acc : 0.017578125\n",
            "epoch 43 -- train_loss : 3.867081437792097   train_acc : 0.01897321455180645   valid_loss : 3.868476390838623   valid_acc : 0.017578125\n",
            "epoch 44 -- train_loss : 3.8657550925300237   train_acc : 0.020299559459090233   valid_loss : 3.868476390838623   valid_acc : 0.017578125\n",
            "epoch 45 -- train_loss : 3.867081437792097   train_acc : 0.01897321455180645   valid_loss : 3.868476390838623   valid_acc : 0.017578125\n",
            "epoch 46 -- train_loss : 3.867081437792097   train_acc : 0.01897321455180645   valid_loss : 3.868476390838623   valid_acc : 0.017578125\n",
            "epoch 47 -- train_loss : 3.866418270837693   train_acc : 0.01963638700544834   valid_loss : 3.868476390838623   valid_acc : 0.017578125\n",
            "epoch 48 -- train_loss : 3.867081437792097   train_acc : 0.01897321455180645   valid_loss : 3.868476390838623   valid_acc : 0.017578125\n",
            "epoch 49 -- train_loss : 3.86442874726795   train_acc : 0.021625906229019165   valid_loss : 3.868476390838623   valid_acc : 0.017578125\n",
            "epoch 50 -- train_loss : 3.8657550925300237   train_acc : 0.020299559459090233   valid_loss : 3.868476390838623   valid_acc : 0.017578125\n"
          ]
        }
      ]
    }
  ]
}